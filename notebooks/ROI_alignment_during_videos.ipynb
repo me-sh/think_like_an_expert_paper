{
 "cells": [
  {
   "cell_type": "markdown",
   "metadata": {},
   "source": [
    "Run temporal and spatial ISC within ROIs, fsl 3mm analysis\n",
    "\n",
    "(1) analyze recap videos\n",
    "\n",
    "(2) analyze lecture videos\n",
    "\n",
    "Code for Fig.2, Fig.3, Table 2, Table 3\n",
    "\n"
   ]
  },
  {
   "cell_type": "code",
   "execution_count": 1,
   "metadata": {},
   "outputs": [],
   "source": [
    "from os import listdir, makedirs, walk, remove, getlogin, rename\n",
    "from os.path import isfile, join, exists, isfile, getmtime, isdir\n",
    "import numpy as np\n",
    "import socket\n",
    "import re\n",
    "from brainiak import image, io, isc\n",
    "import nibabel as nib\n",
    "from brainiak.funcalign.srm import SRM\n",
    "import matplotlib.pyplot as plt\n",
    "from matplotlib import rcParams\n",
    "rcParams.update({'figure.autolayout': True})\n",
    "#from mpl_toolkits.mplot3d import Axes3D\n",
    "import pdb\n",
    "import time\n",
    "import sys\n",
    "import pickle\n",
    "from scipy import stats\n",
    "import glob\n",
    "import pandas as pd\n",
    "from multiprocessing import Pool as ThreadPool\n",
    "import seaborn as sns\n",
    "\n",
    "try: # jupyter tools\n",
    "    from IPython.display import display\n",
    "    %config InlineBackend.figure_format = 'retina' # for 4k screen\n",
    "    from IPython.core.interactiveshell import InteractiveShell # for var view\n",
    "    InteractiveShell.ast_node_interactivity = \"all\" # for var view\n",
    "    from mpl_toolkits.mplot3d import Axes3D\n",
    "except:\n",
    "    pass"
   ]
  },
  {
   "cell_type": "code",
   "execution_count": 2,
   "metadata": {},
   "outputs": [
    {
     "name": "stdout",
     "output_type": "stream",
     "text": [
      "Server: scotty.pni.Princeton.EDU\n",
      "DATA: /mnt/bucket/labs/hasson/meshulam/onlineL/pred20\n",
      "CODE: /mnt/bucket/people/meshulam/meshul/notebooks/share\n"
     ]
    }
   ],
   "source": [
    "#set paths\n",
    "my_name = getlogin()\n",
    "\n",
    "# set system\n",
    "this_system = socket.gethostname()\n",
    "print ('Server: '+this_system)\n",
    "\n",
    "# DATA\n",
    "bids_path='/mnt/sink/scratch/{}/to_bids'.format(my_name) # raw data\n",
    "const_data_path = '/mnt/bucket/labs/hasson/'+my_name\n",
    "const_study_path=join(const_data_path,'onlineL','pred20') # pre-processed data\n",
    "input_fslfeat_students_path=join(const_study_path,'scan_data_nii','students_mni','6motion') # student pre-processed data\n",
    "input_fslfeat_experts_path=join(const_study_path,'scan_data_nii','experts_mni','6motion') # expert pre-processed data \n",
    "print('DATA: ' + const_study_path)\n",
    "\n",
    "# CODE\n",
    "code_path='/mnt/bucket/people/{}/{}/notebooks/share'.format(my_name,my_name[:-2])\n",
    "print('CODE: ' + code_path)\n",
    "# SCORES\n",
    "scores_path=join(bids_path,'sourcedata','exam_scores.tsv')\n",
    "# MASKS\n",
    "masks_path=join(code_path,'masks')\n",
    "# PICKLES\n",
    "pickles_path=join(const_data_path,'onlineL','shared','pickles')"
   ]
  },
  {
   "cell_type": "code",
   "execution_count": 3,
   "metadata": {},
   "outputs": [],
   "source": [
    "# import multiple comparisons tools\n",
    "sys.path.insert(0, join(code_path, 'py'))\n",
    "from multi_comp import fdr_correction # FDR from the MNE-python package\n"
   ]
  },
  {
   "cell_type": "markdown",
   "metadata": {},
   "source": [
    "Part (1): Load ROI definitions"
   ]
  },
  {
   "cell_type": "code",
   "execution_count": 4,
   "metadata": {},
   "outputs": [],
   "source": [
    "# tasks\n",
    "all_sessions_and_tasks= sorted(['wk1_vid1', 'wk1_vid2', 'wk1_vid3', 'wk1_vid4', 'wk1_vid5', 'wk2_vid1', 'wk2_vid2', 'wk2_vid3', 'wk3_vid1', 'wk3_vid2', 'wk3_vid3', 'wk3_vid4', 'wk4_vid1', 'wk4_vid2', 'wk4_vid3', 'wk4_vid4', 'wk5_vid1', 'wk5_vid2', 'wk5_vid3', 'wk5_vid4', 'wk5_vid5', 'wk6_wk1recap', 'wk6_wk2recap', 'wk6_wk3recap', 'wk6_wk4recap', 'wk6_wk5recap'])"
   ]
  },
  {
   "cell_type": "code",
   "execution_count": 5,
   "metadata": {},
   "outputs": [
    {
     "data": {
      "text/plain": [
       "['MNI152_T1_3mm_brain.nii.gz',\n",
       " 'Cingulate-ant_3mm_thr20_bin.nii.gz',\n",
       " 'MNI152_T1_3mm_brain_mask.nii',\n",
       " 'STG-post_3mm_thr20_bin.nii.gz',\n",
       " 'Angular_G_3mm_thr20_bin.nii.gz',\n",
       " 'Heschls_G_3mm_thr20_bin.nii.gz',\n",
       " 'Hippocampus_3mm_thr20_bin.nii.gz',\n",
       " 'Amygdala_3mm_thr20_bin.nii.gz',\n",
       " 'Precuneous_C_3mm_thr20_bin.nii.gz',\n",
       " 'MNI152_T1_3mm_cortex_mask.nii.gz',\n",
       " 'Intracalcarine_C_3mm_thr20_bin.nii.gz']"
      ]
     },
     "execution_count": 5,
     "metadata": {},
     "output_type": "execute_result"
    }
   ],
   "source": [
    "# masks\n",
    "listdir(masks_path) #masks, thresholded at thr, from juelich and oxford atlases, mni152, FSL\n"
   ]
  },
  {
   "cell_type": "code",
   "execution_count": 6,
   "metadata": {},
   "outputs": [
    {
     "data": {
      "text/plain": [
       "'/mnt/bucket/people/meshulam/meshul/notebooks/share/masks'"
      ]
     },
     "execution_count": 6,
     "metadata": {},
     "output_type": "execute_result"
    },
    {
     "name": "stdout",
     "output_type": "stream",
     "text": [
      "Loading ROIs from path /mnt/bucket/people/meshulam/meshul/notebooks/share/masks\n",
      "Number of voxels in Cingulate-ant ROI is 1092\n",
      "Number of voxels in STG-post ROI is 856\n",
      "Number of voxels in Angular ROI is 1783\n",
      "Number of voxels in Heschls ROI is 454\n",
      "Number of voxels in Hippocampus ROI is 668\n",
      "Number of voxels in Amygdala ROI is 318\n",
      "Number of voxels in Precuneous ROI is 2845\n",
      "Number of voxels in Intracalcarine ROI is 925\n"
     ]
    },
    {
     "data": {
      "text/plain": [
       "['Amygdala',\n",
       " 'Angular',\n",
       " 'Cingulate-ant',\n",
       " 'Heschls',\n",
       " 'Hippocampus',\n",
       " 'Intracalcarine',\n",
       " 'Precuneous',\n",
       " 'STG-post']"
      ]
     },
     "execution_count": 6,
     "metadata": {},
     "output_type": "execute_result"
    }
   ],
   "source": [
    "# read anatomical roi files\n",
    "\n",
    "thr=20 # mask threshold (probability in atlas)\n",
    "#define midline\n",
    "midline=30 # right >30, left <30\n",
    "masks_path\n",
    "# READ \n",
    "print('Loading ROIs from path {}'.format(masks_path))\n",
    "roi_masks=glob.glob(join(masks_path,'*_thr{}_bin'.format(thr)+'.nii.gz')) #masks, thresholded at thr, from juelich and oxford atlases, mni152, FSL\n",
    "\n",
    "roi_names=[l.split('/')[-1].split('.')[0].split('_')[0] for l in roi_masks]\n",
    "masks={}\n",
    "for this_roi_name, this_roi_mask in zip(roi_names,roi_masks):\n",
    "    masks[this_roi_name]={}\n",
    "    masks[this_roi_name]['filename']=this_roi_mask\n",
    "    masks[this_roi_name]['all_voxels']={}\n",
    "    masks[this_roi_name]['all_voxels']['bilateral']=nib.load(this_roi_mask).get_fdata()\n",
    "    masks[this_roi_name]['all_voxels']['left']=masks[this_roi_name]['all_voxels']['bilateral'].copy()\n",
    "    masks[this_roi_name]['all_voxels']['left'][midline+1:,...]=0 # zero out right side, excl midline\n",
    "    masks[this_roi_name]['all_voxels']['right']=masks[this_roi_name]['all_voxels']['bilateral'].copy()\n",
    "    masks[this_roi_name]['all_voxels']['right'][:midline,...]=0 # zero out left side, excl midline\n",
    "    print('Number of voxels in {} ROI is {}'.format(this_roi_name,int(np.sum(masks[this_roi_name]['all_voxels']['bilateral']))))\n",
    "\n",
    "save_roi_pickle=True\n",
    "if save_roi_pickle:        \n",
    "    pickle_filename=join(pickles_path,'thr{}_roi_dict.p'.format(thr))\n",
    "    pickle.dump(masks, open(pickle_filename, 'wb'))\n",
    "sorted(masks.keys())\n",
    "#masks['Amygdala'].keys()\n"
   ]
  },
  {
   "cell_type": "code",
   "execution_count": 7,
   "metadata": {},
   "outputs": [
    {
     "data": {
      "text/plain": [
       "(61, 73, 61)"
      ]
     },
     "execution_count": 7,
     "metadata": {},
     "output_type": "execute_result"
    }
   ],
   "source": [
    "#load whole brain\n",
    "const_mni_brain_file_name = join(masks_path,'MNI152_T1_3mm_brain.nii.gz')\n",
    "const_mni_brain_mask = join(masks_path,'MNI152_T1_3mm_brain_mask.nii')\n",
    "whole_brain_3mm=nib.load(const_mni_brain_file_name).get_fdata()\n",
    "brain_mask_3mm=np.array(nib.load(const_mni_brain_mask).get_fdata(), dtype=bool)\n",
    "brain_mask_3mm.shape"
   ]
  },
  {
   "cell_type": "code",
   "execution_count": 8,
   "metadata": {},
   "outputs": [
    {
     "name": "stdout",
     "output_type": "stream",
     "text": [
      "Example file in dict:\n"
     ]
    },
    {
     "data": {
      "text/plain": [
       "'/mnt/bucket/labs/hasson/meshulam/onlineL/pred20/scan_data_nii/students_mni/6motion/s113_wk2_vid1_6motion_mni.nii.gz'"
      ]
     },
     "execution_count": 8,
     "metadata": {},
     "output_type": "execute_result"
    }
   ],
   "source": [
    "# build dict for all filenames, nested\n",
    "\n",
    "student_and_expert_files=sorted(listdir(input_fslfeat_students_path)+listdir(input_fslfeat_experts_path))\n",
    "student_and_expert_files=[f for f in student_and_expert_files if f[0]=='s']\n",
    "\n",
    "task_name_template=\"(s\\d{3})_(wk\\d+)_([0-9a-zA-Z]*)_6motion_mni\" # FSL data\n",
    "\n",
    "def build_filenames_dict(student_and_expert_files,task_name_template):\n",
    "    filenames_dict={}\n",
    "    filenames_dict['students']={}\n",
    "    filenames_dict['experts']={}\n",
    "    for i_this_file,this_file in enumerate(student_and_expert_files):\n",
    "        dk=re.search(task_name_template,this_file)\n",
    "        this_subject=str(dk[1])\n",
    "        this_session=str(dk[2])\n",
    "        this_task=str(dk[3])\n",
    "        if this_file[:2]=='s2':\n",
    "            student_or_expert='experts'\n",
    "        elif this_file[:2]=='s1':\n",
    "            student_or_expert='students'\n",
    "        try:\n",
    "            temp=type(filenames_dict[student_or_expert][this_subject]) is dict\n",
    "        except KeyError:\n",
    "            filenames_dict[student_or_expert][this_subject]={}\n",
    "        try:\n",
    "            temp=type(filenames_dict[student_or_expert][this_subject][this_session]) is dict\n",
    "        except KeyError:\n",
    "            filenames_dict[student_or_expert][this_subject][this_session]={}\n",
    "        # write filename to dict\n",
    "        filenames_dict[student_or_expert][this_subject][this_session][this_task]=join(eval('input_fslfeat_{}_path'.format(student_or_expert)),this_file)\n",
    "    return filenames_dict\n",
    "\n",
    "filenames_dict=build_filenames_dict(student_and_expert_files=student_and_expert_files,task_name_template=task_name_template)\n",
    "# print example\n",
    "print('Example file in dict:')\n",
    "filenames_dict['students']['s113']['wk2']['vid1']\n"
   ]
  },
  {
   "cell_type": "code",
   "execution_count": 9,
   "metadata": {},
   "outputs": [],
   "source": [
    "def filenames_to_SRM_input_list(input_filenames,brain_mask):\n",
    "# run once for each of (train, test)\n",
    "# take filenames and build a data structure (list) for input to SRM, zscored per subject, no nans\n",
    "# input:\n",
    "# filenames (list, text)\n",
    "# brain_mask (assumes it was already read with io.load_boolean_mask and thresholded)\n",
    "# outputs:\n",
    "# output_list - SRM input\n",
    "# function run time\n",
    "    output_list = [] # output\n",
    "    t1 = time.time() # timeit\n",
    "    # coordinates of non-nan voxels\n",
    "    coords = np.where(brain_mask)\n",
    "    # io generator\n",
    "    images=io.load_images(input_filenames)\n",
    "    # mask images\n",
    "    images_masked=image.mask_images(images,brain_mask)\n",
    "    # load and concatenate masked images\n",
    "    images_concatenated=image.MaskedMultiSubjectData.from_masked_images(images_masked,len(input_filenames)) # dim: TR,vox,subj (unlike old Brainiak, vox X TR X subj)\n",
    "    # convert nans into zeros\n",
    "    images_concatenated[np.isnan(images_concatenated)] = 0\n",
    "    # append to list\n",
    "    output_list=[None for i in range(len(input_filenames))]\n",
    "    for this_subject in range(len(input_filenames)):\n",
    "        # zscore voxels for this subject\n",
    "        voxels_zscored_this_subject = stats.zscore(images_concatenated[:,:,this_subject],axis=0,ddof=1) # TR X vox\n",
    "        # reverse the concatenation - required for searchlight\n",
    "        uncon = np.zeros((*brain_mask.shape, voxels_zscored_this_subject.shape[0])) #(61, 73, 61, TR)\n",
    "        uncon[coords[0], coords[1], coords[2], :] = np.nan_to_num(voxels_zscored_this_subject.T) # transpose in new pyger\n",
    "        # append to list\n",
    "        output_list[this_subject]=uncon # uncon dims: mask X TR (61*73*61*TR)\n",
    "    t2 = time.time()\n",
    "    return output_list, t2-t1 # data and runtime"
   ]
  },
  {
   "cell_type": "code",
   "execution_count": null,
   "metadata": {},
   "outputs": [],
   "source": [
    "# get exam data\n",
    "scores_df=pd.read_csv(scores_path,sep='\\t',index_col=[0])\n",
    "outcomes_df=pd.DataFrame({'placement':scores_df.mean(axis=1)})\n",
    "outcomes_df # vector of mean exam scores\n",
    "good_students=[st for st in outcomes_df.index if int(st[1:])<200] # list of students\n",
    "len(good_students) # number of students"
   ]
  },
  {
   "cell_type": "code",
   "execution_count": 11,
   "metadata": {},
   "outputs": [],
   "source": [
    "def transform_srm_space_to_isc_space(data_in_srm_space):\n",
    "    \"\"\"\n",
    "    Transform data in srm space (list subjects, each subject is voxel X time array) to data in isc space (array of voxel X time X subject)\n",
    "    \"\"\"\n",
    "    data_in_isc_space=np.zeros((data_in_srm_space[0].shape[0],data_in_srm_space[0].shape[1],len(data_in_srm_space)))\n",
    "    for s in range(len(data_in_srm_space)):\n",
    "        data_in_isc_space[:,:,s]=data_in_srm_space[s]\n",
    "    return data_in_isc_space\n",
    "    "
   ]
  },
  {
   "cell_type": "code",
   "execution_count": 12,
   "metadata": {},
   "outputs": [],
   "source": [
    "def func_mean_over_trs(data,tr_length=2,bin_size=30):\n",
    "    \"\"\"\n",
    "    Get binned signal\n",
    "    parameters: \n",
    "    TR length (seconds)\n",
    "    bin size (seconds)\n",
    "    data (epi data, voxels X TR)\n",
    "    output:\n",
    "    matrix of voxels X bins, where the signal is averaged over TRs within bin\n",
    "    \"\"\"\n",
    "    number_of_bins=np.int(np.floor(data.shape[1]/(bin_size/tr_length))) # number of bins given the params\n",
    "    end_of_trs=np.int(number_of_bins*bin_size/tr_length) #round such that end of vid is cut, makes sure binsize always equal\n",
    "    slices = np.linspace(0, end_of_trs, number_of_bins, endpoint=False).astype(np.int) # bin edges\n",
    "    slices=np.append(slices,end_of_trs)\n",
    "    counts = np.diff(slices) # size of each bin in TRs\n",
    "    binned_data = np.add.reduceat(data, slices[:-1],1)/np.tile(counts,(data.shape[0],1))\n",
    "    return binned_data\n",
    "#binned_experts=func_mean_over_trs(this_epi_mean_over_experts)\n",
    "#print(binned_experts)\n",
    "\n"
   ]
  },
  {
   "cell_type": "code",
   "execution_count": 13,
   "metadata": {},
   "outputs": [],
   "source": [
    "def plot_regression(x,y,title_text=None):\n",
    "    slope, intercept, r_value, p_value, std_err = stats.linregress(x,y)\n",
    "    print('Least squares linear model coefficients, intercept = ' + str(intercept) + \\\n",
    "      '. Slope = ' + str(slope)+'\\n')\n",
    "\n",
    "    # Create regression line\n",
    "    regressLine = intercept + x*slope  \n",
    "    plt.figure()\n",
    "    plt.clf()\n",
    "    plt.scatter(x, y, s = 3)\n",
    "    plt.title(title_text)\n",
    "    # Add least squares regression line\n",
    "    plt.plot(x, regressLine, label = 'Least squares regression line'); \n",
    "\n"
   ]
  },
  {
   "cell_type": "code",
   "execution_count": 14,
   "metadata": {},
   "outputs": [],
   "source": [
    "def func_corr_and_null_dist(x,y,num_perms=0):\n",
    "    \"\"\"\n",
    "    returns rval, null distribution for correlation of x,y\n",
    "    \"\"\"\n",
    "    rval = stats.pearsonr(x,y)[0]\n",
    "    pval = 1\n",
    "    null_dist=None\n",
    "    if num_perms>0:\n",
    "        null_dist=np.array([stats.pearsonr(np.random.permutation(x), y)[0] for n in np.arange(num_perms)])\n",
    "    return rval,null_dist"
   ]
  },
  {
   "cell_type": "code",
   "execution_count": 16,
   "metadata": {},
   "outputs": [],
   "source": [
    "def get_title_text(roi_keys,prefix):\n",
    "    # plotting helper func\n",
    "    title_text=prefix+'-'\n",
    "    for i_this_col,this_col in enumerate(roi_keys.keys()):\n",
    "        if this_col in ['roi_hemi','roi_name']: # skip hemisphere, roi name, in title\n",
    "            pass\n",
    "        else:\n",
    "            item_list=roi_keys[this_col]['select']\n",
    "            if item_list:\n",
    "                if len(item_list)>1: # do filter\n",
    "                    item_list=''.join(['+'+s for s in item_list])[1:]\n",
    "                else:\n",
    "                    item_list=item_list[0]\n",
    "            if item_list:\n",
    "                title_text+=(this_col+'_'+item_list+'-')\n",
    "    title_text=title_text[:-1]\n",
    "    return title_text"
   ]
  },
  {
   "cell_type": "code",
   "execution_count": 17,
   "metadata": {},
   "outputs": [],
   "source": [
    "def get_filtered_df(roi_keys,unfiltered_df):  \n",
    "    # run filter using masks\n",
    "    mask_all_cols=np.zeros(unfiltered_df.shape)\n",
    "    for i_this_col,this_col in enumerate(roi_keys.keys()):\n",
    "        item_list=roi_keys[this_col]['select']\n",
    "        if item_list: # do filter\n",
    "            mask_this_col=np.zeros([unfiltered_df.shape[0]])\n",
    "            for this_item in range(len(roi_keys[this_col]['select'])):\n",
    "                mask_this_col+=(unfiltered_df[this_col]==roi_keys[this_col]['select'][this_item]).values.transpose()\n",
    "        else: # no filter\n",
    "            mask_this_col=np.ones([unfiltered_df.shape[0]])\n",
    "        mask_all_cols[:,i_this_col]=mask_this_col\n",
    "    # collapse filter masks to a single vec\n",
    "    mask_collapsed=np.all(mask_all_cols,axis=1)\n",
    "    # filter dataframe\n",
    "    this_data_outcome=unfiltered_df[mask_collapsed].copy()\n",
    "    return this_data_outcome     \n",
    "              \n",
    "\n",
    "    #pd.DataFrame\n",
    "    #unfiltered_df[(unfiltered_df.roi_name=='roi1') &\\\n",
    "    #        (sim_df.roi_type=='thr') &\\\n",
    "    #        (sim_df.corr_w_score=='skip') &\\\n",
    "    #        (sim_df.sim_type=='diagonal') &\\\n",
    "    #        (sim_df.vs_mean_of=='student-vs-experts')\\\n",
    "    #       ]"
   ]
  },
  {
   "cell_type": "code",
   "execution_count": 19,
   "metadata": {},
   "outputs": [],
   "source": [
    "# init megadict to save all corr results for recap,lectures\n",
    "#megadict={}"
   ]
  },
  {
   "cell_type": "code",
   "execution_count": 20,
   "metadata": {},
   "outputs": [],
   "source": [
    "def load_roi_data_for_task(st_files,ex_files,roi_masks,brain_mask,with_bilateral=False):        \n",
    "    # get files, extract roi data into dict\n",
    "    # params: student files, expert files (can be empty), roi masks dict, brain mask binary\n",
    "    # load epi data for all tasks\n",
    "    students_data, students_data_load_time= filenames_to_SRM_input_list(st_files,brain_mask) \n",
    "    print('Students data loaded in {:.2f} seconds'.format(students_data_load_time))\n",
    "    if ex_files:\n",
    "        experts_data, experts_data_load_time= filenames_to_SRM_input_list(ex_files,brain_mask) \n",
    "        print('Experts data loaded in {:.2f} seconds'.format(experts_data_load_time))    \n",
    "    else:\n",
    "        experts_data=None\n",
    "        print('No experts data found')\n",
    "        #pass\n",
    "    #\n",
    "    if with_bilateral: # include bilateral ROI\n",
    "        hemispheres=['bilateral']\n",
    "    else:\n",
    "        hemispheres=['right','left']\n",
    "    # extract roi data\n",
    "    roi_data={}\n",
    "    roi_data['students']={}\n",
    "    roi_data['experts']={}\n",
    "    for this_roi_name in sorted(roi_masks.keys()): # iterate over all rois      \n",
    "        roi_data['students'][this_roi_name]={}\n",
    "        roi_data['experts'][this_roi_name]={}\n",
    "        for this_hemisphere in hemispheres:\n",
    "            print('ROI {}, {}'.format(this_roi_name, this_hemisphere))\n",
    "            # extract roi brain data in srm-comatible space (no srm run)\n",
    "            #students\n",
    "            st_roi_data=[s[roi_masks[this_roi_name]['all_voxels'][this_hemisphere].nonzero()] for s in students_data] # voxels X trs\n",
    "            roi_data['students'][this_roi_name][this_hemisphere]=st_roi_data\n",
    "            # experts\n",
    "            if experts_data:\n",
    "                ex_roi_data=[s[roi_masks[this_roi_name]['all_voxels'][this_hemisphere].nonzero()] for s in experts_data] # voxels X trs\n",
    "                roi_data['experts'][this_roi_name][this_hemisphere]=ex_roi_data\n",
    "            else:\n",
    "                roi_data['experts'][this_roi_name][this_hemisphere]=None\n",
    "    return roi_data\n",
    "\n",
    "# set to use bilateral ROI \n",
    "with_bilateral=True \n",
    "hemispheres=['bilateral'] "
   ]
  },
  {
   "cell_type": "code",
   "execution_count": 21,
   "metadata": {
    "scrolled": true
   },
   "outputs": [
    {
     "name": "stdout",
     "output_type": "stream",
     "text": [
      "wk1_vid1\n",
      "This task 0.8352670669555664 sec\n",
      "wk1_vid2\n",
      "This task 0.6615595817565918 sec\n",
      "wk1_vid3\n",
      "This task 1.9514074325561523 sec\n",
      "wk1_vid4\n",
      "This task 0.6794397830963135 sec\n",
      "wk1_vid5\n",
      "This task 3.162191867828369 sec\n",
      "wk2_vid1\n",
      "This task 4.334330081939697 sec\n",
      "wk2_vid2\n",
      "This task 5.0378947257995605 sec\n",
      "wk2_vid3\n",
      "This task 0.5219619274139404 sec\n",
      "wk3_vid1\n",
      "This task 0.2754955291748047 sec\n",
      "wk3_vid2\n",
      "This task 0.7106764316558838 sec\n",
      "wk3_vid3\n",
      "This task 0.5059792995452881 sec\n",
      "wk3_vid4\n",
      "This task 0.1711266040802002 sec\n",
      "wk4_vid1\n",
      "This task 0.5008845329284668 sec\n",
      "wk4_vid2\n",
      "This task 0.48950791358947754 sec\n",
      "wk4_vid3\n",
      "This task 0.4924347400665283 sec\n",
      "wk4_vid4\n",
      "This task 0.40667104721069336 sec\n",
      "wk5_vid1\n",
      "This task 0.2410874366760254 sec\n",
      "wk5_vid2\n",
      "This task 0.38720703125 sec\n",
      "wk5_vid3\n",
      "This task 0.4693281650543213 sec\n",
      "wk5_vid4\n",
      "This task 0.6702790260314941 sec\n",
      "wk5_vid5\n",
      "This task 0.3647291660308838 sec\n",
      "wk6_wk1recap\n",
      "This task 0.29518628120422363 sec\n",
      "wk6_wk2recap\n",
      "This task 0.36945557594299316 sec\n",
      "wk6_wk3recap\n",
      "This task 0.37659478187561035 sec\n",
      "wk6_wk4recap\n",
      "This task 0.3197171688079834 sec\n",
      "wk6_wk5recap\n",
      "This task 0.28716492652893066 sec\n",
      "Total time: 24.52204990386963\n",
      "Loaded from Pickle\n"
     ]
    }
   ],
   "source": [
    "# load data for all tasks, save pickle\n",
    "# builds:\n",
    "#epi_tasks_in_roi # dict for epi data (all TRs) within each roi\n",
    "# 42 min to build and save pickles (8.5GB in total for all tasks) for thr=20, bilateral\n",
    "# 30s to load from pickle\n",
    "\n",
    "# look up task files\n",
    "task_dict={}\n",
    "task_dict['recaps']=sorted([r for r in all_sessions_and_tasks if 'recap' in r and 'wk6' in r])\n",
    "task_dict['lectures']=sorted([r for r in all_sessions_and_tasks if 'vid' in r and not 'NNvid' in r])\n",
    "task_dict['all_tasks']=task_dict['recaps']+task_dict['lectures']\n",
    "\n",
    "load_from_pickle=True # use saved data\n",
    "save_to_pickle=True # save data\n",
    "\n",
    "epi_tasks_in_roi={} # dict for epi data (all TRs) within each roi\n",
    "epi_tasks_in_roi['students']={}\n",
    "epi_tasks_in_roi['experts']={}\n",
    "\n",
    "t1=time.time()\n",
    "for this_task in sorted(task_dict['all_tasks']): #['wk6_wk1recap']: # in recaps # iterate over recap videos\n",
    "    print(this_task)\n",
    "    t3=time.time()\n",
    "    epi_tasks_in_roi['students'][this_task]={}\n",
    "    epi_tasks_in_roi['experts'][this_task]={}\n",
    "    # get filenames for task\n",
    "    all_student_filenames_for_task=sorted([join(input_fslfeat_students_path,f) for f in listdir(input_fslfeat_students_path) if this_task in f and 's1' in f]) \n",
    "    selected_students=good_students.copy()                                                     \n",
    "    epi_tasks_in_roi['students'][this_task]['filenames']=[f for f in all_student_filenames_for_task if f.split('/')[-1].split('_')[0] in selected_students]\n",
    "    # fetch filenames for experts\n",
    "    epi_tasks_in_roi['experts'][this_task]['filenames']=sorted([join(input_fslfeat_experts_path,f) for f in student_and_expert_files if this_task in f and 's2' in f])\n",
    "    \n",
    "    # get roi data\n",
    "    st_files=epi_tasks_in_roi['students'][this_task]['filenames']\n",
    "    ex_files=epi_tasks_in_roi['experts'][this_task]['filenames']\n",
    "    \n",
    "    # load roi data from epi or from saved pickle\n",
    "    task_pickle=join(pickles_path,'{}_roi_data_experts_and_students_dict.p'.format(this_task))\n",
    "    #with_bilateral=False\n",
    "    if load_from_pickle:\n",
    "        epi_roi_dict=pickle.load(open(task_pickle, 'rb'))\n",
    "    else:\n",
    "        epi_roi_dict=load_roi_data_for_task(st_files,ex_files,masks,brain_mask_3mm,with_bilateral=with_bilateral) # load\n",
    "        #save epi roi dict to pickle\n",
    "        if save_to_pickle:\n",
    "            pickle.dump(epi_roi_dict, open(task_pickle, 'wb'))\n",
    "\n",
    "    # update dict\n",
    "    epi_tasks_in_roi['students'][this_task]['roi_data']=epi_roi_dict['students']\n",
    "    epi_tasks_in_roi['experts'][this_task]['roi_data']=epi_roi_dict['experts']\n",
    "    t4=time.time()\n",
    "    print('This task {} sec'.format(t4-t3))\n",
    "t2=time.time()\n",
    "print('Total time: {}'.format(t2-t1)) \n",
    "if load_from_pickle:\n",
    "    print ('Loaded from Pickle')\n",
    "    "
   ]
  },
  {
   "cell_type": "markdown",
   "metadata": {},
   "source": [
    "Part (2): analyze recap videos"
   ]
  },
  {
   "cell_type": "code",
   "execution_count": 22,
   "metadata": {
    "scrolled": true
   },
   "outputs": [
    {
     "name": "stdout",
     "output_type": "stream",
     "text": [
      "wk6_wk1recap-Amygdala-bilateral-full_roi\n",
      "wk6_wk1recap-Angular-bilateral-full_roi\n",
      "wk6_wk1recap-Cingulate-ant-bilateral-full_roi\n",
      "wk6_wk1recap-Heschls-bilateral-full_roi\n",
      "wk6_wk1recap-Hippocampus-bilateral-full_roi\n",
      "wk6_wk1recap-Intracalcarine-bilateral-full_roi\n",
      "wk6_wk1recap-Precuneous-bilateral-full_roi\n",
      "wk6_wk1recap-STG-post-bilateral-full_roi\n",
      "wk6_wk2recap-Amygdala-bilateral-full_roi\n",
      "wk6_wk2recap-Angular-bilateral-full_roi\n",
      "wk6_wk2recap-Cingulate-ant-bilateral-full_roi\n",
      "wk6_wk2recap-Heschls-bilateral-full_roi\n",
      "wk6_wk2recap-Hippocampus-bilateral-full_roi\n",
      "wk6_wk2recap-Intracalcarine-bilateral-full_roi\n",
      "wk6_wk2recap-Precuneous-bilateral-full_roi\n",
      "wk6_wk2recap-STG-post-bilateral-full_roi\n",
      "wk6_wk3recap-Amygdala-bilateral-full_roi\n",
      "wk6_wk3recap-Angular-bilateral-full_roi\n",
      "wk6_wk3recap-Cingulate-ant-bilateral-full_roi\n",
      "wk6_wk3recap-Heschls-bilateral-full_roi\n",
      "wk6_wk3recap-Hippocampus-bilateral-full_roi\n",
      "wk6_wk3recap-Intracalcarine-bilateral-full_roi\n",
      "wk6_wk3recap-Precuneous-bilateral-full_roi\n",
      "wk6_wk3recap-STG-post-bilateral-full_roi\n",
      "wk6_wk4recap-Amygdala-bilateral-full_roi\n",
      "wk6_wk4recap-Angular-bilateral-full_roi\n",
      "wk6_wk4recap-Cingulate-ant-bilateral-full_roi\n",
      "wk6_wk4recap-Heschls-bilateral-full_roi\n",
      "wk6_wk4recap-Hippocampus-bilateral-full_roi\n",
      "wk6_wk4recap-Intracalcarine-bilateral-full_roi\n",
      "wk6_wk4recap-Precuneous-bilateral-full_roi\n",
      "wk6_wk4recap-STG-post-bilateral-full_roi\n",
      "wk6_wk5recap-Amygdala-bilateral-full_roi\n",
      "wk6_wk5recap-Angular-bilateral-full_roi\n",
      "wk6_wk5recap-Cingulate-ant-bilateral-full_roi\n",
      "wk6_wk5recap-Heschls-bilateral-full_roi\n",
      "wk6_wk5recap-Hippocampus-bilateral-full_roi\n",
      "wk6_wk5recap-Intracalcarine-bilateral-full_roi\n",
      "wk6_wk5recap-Precuneous-bilateral-full_roi\n",
      "wk6_wk5recap-STG-post-bilateral-full_roi\n"
     ]
    }
   ],
   "source": [
    "# RECAPS\n",
    "# get signal for experts in recaps, mean over all experts\n",
    "# (for comparison with each subject) used to compare each subject\n",
    "epi_mean_over_experts={} #non-zscored\n",
    "for this_task in sorted([r for r in all_sessions_and_tasks if 'wk6' in r and 'recap' in r]): # iter over wk6 recaps \n",
    "    epi_mean_over_experts[this_task]={}\n",
    "    for this_roi_name in sorted(masks.keys()): # iterate over all rois\n",
    "        epi_mean_over_experts[this_task][this_roi_name]={}\n",
    "        for this_hemisphere in hemispheres:\n",
    "            epi_mean_over_experts[this_task][this_roi_name][this_hemisphere]={}\n",
    "            for full_or_thresholded in ['full_roi']: \n",
    "                print('{}-{}-{}-{}'.format(this_task,this_roi_name,this_hemisphere,full_or_thresholded))\n",
    "                this_data=epi_tasks_in_roi['experts'][this_task]['roi_data'][this_roi_name][this_hemisphere] # list of subj, vox x TR\n",
    "                experts_transformed=transform_srm_space_to_isc_space(this_data)\n",
    "                # note this has already been zscored in time\n",
    "                experts_mean_subjects=np.nanmean(experts_transformed,2) # mean over experts\n",
    "                epi_mean_over_experts[this_task][this_roi_name][this_hemisphere]=experts_mean_subjects # vox X TR\n",
    "\n",
    "                "
   ]
  },
  {
   "cell_type": "code",
   "execution_count": 24,
   "metadata": {
    "scrolled": true
   },
   "outputs": [
    {
     "name": "stdout",
     "output_type": "stream",
     "text": [
      "/mnt/bucket/labs/hasson/meshulam/onlineL/shared/pickles/recaps_roi_data_isc_meanbin_dict_nothr_epi_recap_temp_corr_no_bin.p\n",
      "Loaded\n",
      "/mnt/bucket/labs/hasson/meshulam/onlineL/shared/pickles/recaps_roi_data_isc_meanbin_dict_nothr_epi_recap_spatial_corr_per_tr.p\n",
      "Loaded\n",
      "/mnt/bucket/labs/hasson/meshulam/onlineL/shared/pickles/recaps_roi_data_isc_meanbin_dict_nothr_epi_recap_spatial_corr_bin_10s.p\n",
      "Loaded\n",
      "/mnt/bucket/labs/hasson/meshulam/onlineL/shared/pickles/recaps_roi_data_isc_meanbin_dict_nothr_epi_recap_spatial_corr_bin_30s.p\n",
      "Loaded\n"
     ]
    }
   ],
   "source": [
    "# RECAPS\n",
    "# run correlations\n",
    "\n",
    "# 1) temporal ISC, 2) spatial ISC per TR, 3) spatial 10s bins, 4) spatial 30s bins (for manuscript)\n",
    "pickle_dicts=['epi_recap_temp_corr_no_bin','epi_recap_spatial_corr_per_tr','epi_recap_spatial_corr_bin_10s','epi_recap_spatial_corr_bin_30s']\n",
    "num_perms=1000 # for direct comparison (table 3)\n",
    "load_from_pickle=True # computation takes 1 min\n",
    "if load_from_pickle:\n",
    "    for this_dict in pickle_dicts:\n",
    "        pickle_filename=join(pickles_path,'recaps_roi_data_isc_meanbin_dict_nothr_{}.p'.format(this_dict)) \n",
    "        exec('{}=pickle.load(open(pickle_filename, \\'rb\\'))'.format(this_dict))\n",
    "        print(pickle_filename)\n",
    "        print('Loaded')\n",
    "else: # rerun, don't load from pickle   \n",
    "    t0=time.time()\n",
    "    do_direct=True # run direct comparison in 30s bins\n",
    "    # temporal correlations, no binning\n",
    "    epi_recap_temp_corr_no_bin={} # repeat for spatial/temp. binning 10s, 30s, not just raw\n",
    "    # spatial correlation, per tr and w bin 30s,10s\n",
    "    epi_recap_spatial_corr_per_tr={}\n",
    "    tr_length=2\n",
    "    bin_size_seconds_10=10\n",
    "    epi_recap_spatial_corr_bin_10s={}\n",
    "    bin_size_seconds_30=30\n",
    "    epi_recap_spatial_corr_bin_30s={}\n",
    "\n",
    "    task_name_template=\".*(s\\d{3}).*(wk\\d+)_([0-9a-zA-Z]*)_6motion_mni\" # identify subject, session, task\n",
    "    #for this_task in [r for r in all_sessions_and_tasks if 'recap' in r]:#['wk6_wk2recap']:# # go over all recaps \n",
    "    for this_task in sorted([r for r in all_sessions_and_tasks if 'recap' in r and 'wk6' in r]):\n",
    "        #init dict for task\n",
    "        epi_recap_temp_corr_no_bin[this_task]={}\n",
    "        epi_recap_spatial_corr_per_tr[this_task]={}\n",
    "        epi_recap_spatial_corr_bin_10s[this_task]={}\n",
    "        epi_recap_spatial_corr_bin_30s[this_task]={}\n",
    "        for this_roi_name in sorted(masks.keys()): # iterate over all rois\n",
    "            # init dict for roi\n",
    "            epi_recap_temp_corr_no_bin[this_task][this_roi_name]={}\n",
    "            epi_recap_spatial_corr_per_tr[this_task][this_roi_name]={}\n",
    "            epi_recap_spatial_corr_bin_10s[this_task][this_roi_name]={}\n",
    "            epi_recap_spatial_corr_bin_30s[this_task][this_roi_name]={}\n",
    "            for this_hemisphere in hemispheres:\n",
    "                #init dict for hemisphere\n",
    "                epi_recap_temp_corr_no_bin[this_task][this_roi_name][this_hemisphere]={}\n",
    "                epi_recap_spatial_corr_per_tr[this_task][this_roi_name][this_hemisphere]={}\n",
    "                epi_recap_spatial_corr_bin_10s[this_task][this_roi_name][this_hemisphere]={}\n",
    "                epi_recap_spatial_corr_bin_30s[this_task][this_roi_name][this_hemisphere]={}\n",
    "\n",
    "                #student data\n",
    "                full_or_thresholded='full_roi' #anat roi\n",
    "                print('{}-{}-{}-{}'.format(this_task,this_roi_name,this_hemisphere,full_or_thresholded))\n",
    "                this_data=epi_tasks_in_roi['students'][this_task]['roi_data'][this_roi_name][this_hemisphere]\n",
    "                this_data_transformed=transform_srm_space_to_isc_space(this_data) # vox, tr, sub - already zscored on time          \n",
    "\n",
    "                # experts ***wk6*** recap mean for this task (no data for other weeks)\n",
    "                experts_task='wk6'+this_task[3:]\n",
    "                print('Expert task correlated: {}'.format(experts_task))\n",
    "                # this is experts data mean over subjects\n",
    "                this_epi_mean_over_experts=epi_mean_over_experts[experts_task][this_roi_name][this_hemisphere] # USE FOR EXPERTS\n",
    "                # this is experts data mean over voxels, for temporal ISC\n",
    "                experts_mean_over_voxels=np.mean(this_epi_mean_over_experts,0)\n",
    "                # this is experts data mean over bins in time, for binned spatial ISC\n",
    "                experts_mean_over_bins_10s=func_mean_over_trs(this_epi_mean_over_experts,bin_size=10)\n",
    "                # this is experts data mean over bins in time, for binned spatial ISC\n",
    "                experts_mean_over_bins_30s=func_mean_over_trs(this_epi_mean_over_experts,bin_size=30)\n",
    "\n",
    "                # debugging: just for comparison, what's the correlation value for mean(experts) and mean(students) - should be the same as in above cell\n",
    "                do_debug=False\n",
    "                if do_debug:\n",
    "                    students_mean_over_voxels=np.mean(np.mean(this_data_transformed,2),0)\n",
    "                    comp_rval=stats.pearsonr(students_mean_over_voxels,experts_mean_over_voxels)\n",
    "                    print('Comp rval= {}'.format(comp_rval[0]))\n",
    "                    fig=plt.figure()\n",
    "                    ax = fig.add_subplot(111)\n",
    "                    ax.plot(students_mean_over_voxels)\n",
    "                    ax.plot(experts_mean_over_voxels)\n",
    "                    ax.set_title('{}-{}-{}-{}-{:2f}'.format(this_task,this_roi_name,this_hemisphere,full_or_thresholded,comp_rval[0]))\n",
    "\n",
    "                # temporal correlations\n",
    "                # for student vs experts mean corr (experts wk6 video)\n",
    "                corr_student_vs_experts_temporal=np.zeros(this_data_transformed.shape[2],) # for corr result\n",
    "                # for student vs other students mean mean corr (same video)\n",
    "                corr_student_vs_other_students_temporal=np.zeros(this_data_transformed.shape[2],) \n",
    "                # iterate over students\n",
    "                for i_this_student in range(len(corr_student_vs_experts_temporal)):\n",
    "                    # for every student, corr with expert average\n",
    "                    this_student_mean_over_voxels=np.mean(this_data_transformed[:,:,i_this_student],0)\n",
    "                    rval_vs_experts=stats.pearsonr(this_student_mean_over_voxels,experts_mean_over_voxels)\n",
    "                    corr_student_vs_experts_temporal[i_this_student]=rval_vs_experts[0]\n",
    "                    # for every student, corr with all other students\n",
    "                    other_students = np.mean(this_data_transformed[:, :, np.arange(this_data_transformed.shape[2]) != i_this_student], axis=2)\n",
    "                    other_students_mean_over_voxels=np.mean(other_students,0)\n",
    "                    rval_vs_other_students=stats.pearsonr(this_student_mean_over_voxels,other_students_mean_over_voxels)\n",
    "                    corr_student_vs_other_students_temporal[i_this_student]=rval_vs_other_students[0]\n",
    "                #update dict     \n",
    "                epi_recap_temp_corr_no_bin[this_task][this_roi_name][this_hemisphere]['rvals_vs_experts']=corr_student_vs_experts_temporal # USE TO STORE CORR DATA WITH experts\n",
    "                epi_recap_temp_corr_no_bin[this_task][this_roi_name][this_hemisphere]['rvals_vs_group']=corr_student_vs_other_students_temporal # USE TO STORE CORR DATA WITH group (other students)\n",
    "                students_list=[re.search(task_name_template,this_file)[1] for this_file in epi_tasks_in_roi['students'][this_task]['filenames']] # student names\n",
    "                epi_recap_temp_corr_no_bin[this_task][this_roi_name][this_hemisphere]['student_names']=students_list\n",
    "\n",
    "                # spatial correlations\n",
    "                number_of_bins_10s=np.int(np.floor(this_data_transformed.shape[1]/(bin_size_seconds_10/tr_length)))\n",
    "                number_of_bins_30s=np.int(np.floor(this_data_transformed.shape[1]/(bin_size_seconds_30/tr_length)))\n",
    "                # for student vs experts mean corr (experts wk6 videos)\n",
    "                corr_student_vs_experts_spatial_per_tr=np.zeros([this_data_transformed.shape[2],this_data_transformed.shape[1]]) #subjects x r per tr # for corr result\n",
    "                corr_student_vs_experts_spatial_10s=np.zeros([this_data_transformed.shape[2],number_of_bins_10s]) # subjects x r per bin # for corr result\n",
    "                corr_student_vs_experts_spatial_30s=np.zeros([this_data_transformed.shape[2],number_of_bins_30s]) # subjects x r per bin # for corr result\n",
    "                # for student vs other students mean mean corr (same video)\n",
    "                corr_student_vs_other_students_spatial_per_tr=np.zeros([this_data_transformed.shape[2],this_data_transformed.shape[1]]) \n",
    "                corr_student_vs_other_students_spatial_10s=np.zeros([this_data_transformed.shape[2],number_of_bins_10s]) \n",
    "                corr_student_vs_other_students_spatial_30s=np.zeros([this_data_transformed.shape[2],number_of_bins_30s]) \n",
    "                # iterate over students\n",
    "                for i_this_student in range(len(corr_student_vs_experts_spatial_30s)):\n",
    "                    # for every student, corr with expert average\n",
    "                    # per tr\n",
    "                    this_student_all_trs=this_data_transformed[:,:,i_this_student]\n",
    "                    temp=np.array([stats.pearsonr(this_student_all_trs[:,i_tr],this_epi_mean_over_experts[:,i_tr])[0] for i_tr in range(this_data_transformed.shape[1])])\n",
    "                    corr_student_vs_experts_spatial_per_tr[i_this_student]=temp\n",
    "                    # 10s bins\n",
    "                    this_student_mean_over_bins_10s=func_mean_over_trs(this_data_transformed[:,:,i_this_student],bin_size=10)              \n",
    "                    corr_student_vs_experts_spatial_10s[i_this_student,:]=np.array([stats.pearsonr(this_student_mean_over_bins_10s[:,i],experts_mean_over_bins_10s[:,i])[0] for i in range(number_of_bins_10s)])\n",
    "                    # 30s bins\n",
    "                    this_student_mean_over_bins_30s=func_mean_over_trs(this_data_transformed[:,:,i_this_student])              \n",
    "                    corr_student_vs_experts_spatial_30s[i_this_student,:]=np.array([stats.pearsonr(this_student_mean_over_bins_30s[:,i],experts_mean_over_bins_30s[:,i])[0] for i in range(number_of_bins_30s)])\n",
    "                    # for every student, corr with all other students\n",
    "                    # per tr\n",
    "                    other_students = np.mean(this_data_transformed[:, :, np.arange(this_data_transformed.shape[2]) != i_this_student], axis=2) #mean over (other) students\n",
    "                    temp=np.array([stats.pearsonr(this_student_all_trs[:,i_tr],other_students[:,i_tr])[0] for i_tr in range(this_data_transformed.shape[1])])\n",
    "                    corr_student_vs_other_students_spatial_per_tr[i_this_student]=temp\n",
    "                    # 10s bins\n",
    "                    #other_students = np.mean(this_data_transformed[:, :, np.arange(this_data_transformed.shape[2]) != i_this_student], axis=2)\n",
    "                    other_students_mean_over_bins_10s=func_mean_over_trs(other_students,bin_size=10)\n",
    "                    corr_student_vs_other_students_spatial_10s[i_this_student]=np.array([stats.pearsonr(this_student_mean_over_bins_10s[:,i],other_students_mean_over_bins_10s[:,i])[0] for i in range(number_of_bins_10s)])\n",
    "                    # 30s bins\n",
    "                    #other_students = np.mean(this_data_transformed[:, :, np.arange(this_data_transformed.shape[2]) != i_this_student], axis=2)\n",
    "                    other_students_mean_over_bins_30s=func_mean_over_trs(other_students)\n",
    "                    corr_student_vs_other_students_spatial_30s[i_this_student]=np.array([stats.pearsonr(this_student_mean_over_bins_30s[:,i],other_students_mean_over_bins_30s[:,i])[0] for i in range(number_of_bins_30s)])\n",
    "                #update dict with the value for mean of bins \n",
    "                #no bins\n",
    "                epi_recap_spatial_corr_per_tr[this_task][this_roi_name][this_hemisphere]['rvals_vs_experts']=np.mean((corr_student_vs_experts_spatial_per_tr),1) # USE TO STORE CORR DATA WITH experts\n",
    "                epi_recap_spatial_corr_per_tr[this_task][this_roi_name][this_hemisphere]['rvals_vs_group']=np.mean((corr_student_vs_other_students_spatial_per_tr),1) # USE TO STORE CORR DATA WITH group (other students)\n",
    "                students_list=[re.search(task_name_template,this_file)[1] for this_file in epi_tasks_in_roi['students'][this_task]['filenames']] # student names\n",
    "                epi_recap_spatial_corr_per_tr[this_task][this_roi_name][this_hemisphere]['student_names']=students_list\n",
    "                #10s bins\n",
    "                epi_recap_spatial_corr_bin_10s[this_task][this_roi_name][this_hemisphere]['rvals_vs_experts']=np.mean((corr_student_vs_experts_spatial_10s),1) # USE TO STORE CORR DATA WITH experts\n",
    "                epi_recap_spatial_corr_bin_10s[this_task][this_roi_name][this_hemisphere]['rvals_vs_group']=np.mean((corr_student_vs_other_students_spatial_10s),1) # USE TO STORE CORR DATA WITH group (other students)\n",
    "                students_list=[re.search(task_name_template,this_file)[1] for this_file in epi_tasks_in_roi['students'][this_task]['filenames']] # student names\n",
    "                epi_recap_spatial_corr_bin_10s[this_task][this_roi_name][this_hemisphere]['student_names']=students_list\n",
    "                #30s bins\n",
    "                epi_recap_spatial_corr_bin_30s[this_task][this_roi_name][this_hemisphere]['rvals_vs_experts']=np.mean((corr_student_vs_experts_spatial_30s),1) # USE TO STORE CORR DATA WITH experts\n",
    "                epi_recap_spatial_corr_bin_30s[this_task][this_roi_name][this_hemisphere]['rvals_vs_group']=np.mean((corr_student_vs_other_students_spatial_30s),1) # USE TO STORE CORR DATA WITH group (other students)\n",
    "                students_list=[re.search(task_name_template,this_file)[1] for this_file in epi_tasks_in_roi['students'][this_task]['filenames']] # student names\n",
    "                epi_recap_spatial_corr_bin_30s[this_task][this_roi_name][this_hemisphere]['student_names']=students_list\n",
    "                if do_direct:\n",
    "                    # direct comparison between experts and group (corr(st vs group,st vs experts)) in 30s bins\n",
    "                    # dims are different because using students for corr\n",
    "                    epi_recap_spatial_corr_bin_30s[this_task][this_roi_name][this_hemisphere]['experts_vs_group']={}\n",
    "                    n_bins=corr_student_vs_experts_spatial_30s.shape[1] # 20 x 6 -> 6\n",
    "                    direct_dists=np.zeros((n_bins,num_perms)) #6 x 1000\n",
    "                    direct_rvals=np.zeros((n_bins))\n",
    "                    # do direct corr\n",
    "                    for this_bin in range(n_bins):\n",
    "                        direct_rvals[this_bin],direct_dists[this_bin,:]=\\\n",
    "                            func_corr_and_null_dist(corr_student_vs_experts_spatial_30s[:,this_bin],corr_student_vs_other_students_spatial_30s[:,this_bin],num_perms=num_perms)    \n",
    "                    # save mean across bins (result)\n",
    "                    epi_recap_spatial_corr_bin_30s[this_task][this_roi_name][this_hemisphere]['experts_vs_group']['rval_across_st']=np.mean(direct_rvals) # mean rval across bins\n",
    "                    epi_recap_spatial_corr_bin_30s[this_task][this_roi_name][this_hemisphere]['experts_vs_group']['dist_across_st']=np.mean(direct_dists,axis=0) # mean dist across bins\n",
    "                    # save per-student values (for direct plots)\n",
    "                    epi_recap_spatial_corr_bin_30s[this_task][this_roi_name][this_hemisphere]['experts_vs_group']['rvals_per_student']={}\n",
    "                    epi_recap_spatial_corr_bin_30s[this_task][this_roi_name][this_hemisphere]['experts_vs_group']['rvals_per_student']['_vs_group']=\\\n",
    "                        corr_student_vs_other_students_spatial_30s\n",
    "                    epi_recap_spatial_corr_bin_30s[this_task][this_roi_name][this_hemisphere]['experts_vs_group']['rvals_per_student']['_vs_experts']=\\\n",
    "                        corr_student_vs_experts_spatial_30s\n",
    "    t1=time.time()\n",
    "    print('Done in {:.2f} sec'.format(t1-t0))\n",
    "    do_pickle=True\n",
    "    #pickle_dicts=['epi_recap_temp_corr_no_bin','epi_recap_spatial_corr_per_tr','epi_recap_spatial_corr_bin_10s','epi_recap_spatial_corr_bin_30s']\n",
    "    if do_pickle:\n",
    "        for this_dict in pickle_dicts:\n",
    "            #pickle_filename=join(output_path,'pickles','recaps_roi_data_isc_dict_{}.p'.format(this_dict)) # this is the multi-dim data (not averaged over time bins)\n",
    "            pickle_filename=join(pickles_path,'recaps_roi_data_isc_meanbin_dict_nothr_{}.p'.format(this_dict)) \n",
    "            pickle.dump(eval(this_dict), open(pickle_filename, 'wb'))\n"
   ]
  },
  {
   "cell_type": "code",
   "execution_count": 25,
   "metadata": {},
   "outputs": [],
   "source": [
    "megadict={} # keep all corr results in a single dict"
   ]
  },
  {
   "cell_type": "code",
   "execution_count": 32,
   "metadata": {},
   "outputs": [
    {
     "name": "stdout",
     "output_type": "stream",
     "text": [
      "epi_recap_temp_corr_no_bin\n",
      "Cingulate-ant\n",
      "bilateral\n",
      "rvals_vs_experts\n",
      "rvals_vs_group\n",
      "STG-post\n",
      "bilateral\n",
      "rvals_vs_experts\n",
      "rvals_vs_group\n",
      "Angular\n",
      "bilateral\n",
      "rvals_vs_experts\n",
      "rvals_vs_group\n",
      "Heschls\n",
      "bilateral\n",
      "rvals_vs_experts\n",
      "rvals_vs_group\n",
      "Hippocampus\n",
      "bilateral\n",
      "rvals_vs_experts\n",
      "rvals_vs_group\n",
      "Amygdala\n",
      "bilateral\n",
      "rvals_vs_experts\n",
      "rvals_vs_group\n",
      "Precuneous\n",
      "bilateral\n",
      "rvals_vs_experts\n",
      "rvals_vs_group\n",
      "Intracalcarine\n",
      "bilateral\n",
      "rvals_vs_experts\n",
      "rvals_vs_group\n",
      "epi_recap_spatial_corr_per_tr\n",
      "Cingulate-ant\n",
      "bilateral\n",
      "rvals_vs_experts\n",
      "rvals_vs_group\n",
      "STG-post\n",
      "bilateral\n",
      "rvals_vs_experts\n",
      "rvals_vs_group\n",
      "Angular\n",
      "bilateral\n",
      "rvals_vs_experts\n",
      "rvals_vs_group\n",
      "Heschls\n",
      "bilateral\n",
      "rvals_vs_experts\n",
      "rvals_vs_group\n",
      "Hippocampus\n",
      "bilateral\n",
      "rvals_vs_experts\n",
      "rvals_vs_group\n",
      "Amygdala\n",
      "bilateral\n",
      "rvals_vs_experts\n",
      "rvals_vs_group\n",
      "Precuneous\n",
      "bilateral\n",
      "rvals_vs_experts\n",
      "rvals_vs_group\n",
      "Intracalcarine\n",
      "bilateral\n",
      "rvals_vs_experts\n",
      "rvals_vs_group\n",
      "epi_recap_spatial_corr_bin_10s\n",
      "Cingulate-ant\n",
      "bilateral\n",
      "rvals_vs_experts\n",
      "rvals_vs_group\n",
      "STG-post\n",
      "bilateral\n",
      "rvals_vs_experts\n",
      "rvals_vs_group\n",
      "Angular\n",
      "bilateral\n",
      "rvals_vs_experts\n",
      "rvals_vs_group\n",
      "Heschls\n",
      "bilateral\n",
      "rvals_vs_experts\n",
      "rvals_vs_group\n",
      "Hippocampus\n",
      "bilateral\n",
      "rvals_vs_experts\n",
      "rvals_vs_group\n",
      "Amygdala\n",
      "bilateral\n",
      "rvals_vs_experts\n",
      "rvals_vs_group\n",
      "Precuneous\n",
      "bilateral\n",
      "rvals_vs_experts\n",
      "rvals_vs_group\n",
      "Intracalcarine\n",
      "bilateral\n",
      "rvals_vs_experts\n",
      "rvals_vs_group\n",
      "epi_recap_spatial_corr_bin_30s\n",
      "Cingulate-ant\n",
      "bilateral\n",
      "rvals_vs_experts\n",
      "rvals_vs_group\n",
      "experts_vs_group\n",
      "STG-post\n",
      "bilateral\n",
      "rvals_vs_experts\n",
      "rvals_vs_group\n",
      "experts_vs_group\n",
      "Angular\n",
      "bilateral\n",
      "rvals_vs_experts\n",
      "rvals_vs_group\n",
      "experts_vs_group\n",
      "Heschls\n",
      "bilateral\n",
      "rvals_vs_experts\n",
      "rvals_vs_group\n",
      "experts_vs_group\n",
      "Hippocampus\n",
      "bilateral\n",
      "rvals_vs_experts\n",
      "rvals_vs_group\n",
      "experts_vs_group\n",
      "Amygdala\n",
      "bilateral\n",
      "rvals_vs_experts\n",
      "rvals_vs_group\n",
      "experts_vs_group\n",
      "Precuneous\n",
      "bilateral\n",
      "rvals_vs_experts\n",
      "rvals_vs_group\n",
      "experts_vs_group\n",
      "Intracalcarine\n",
      "bilateral\n",
      "rvals_vs_experts\n",
      "rvals_vs_group\n",
      "experts_vs_group\n"
     ]
    }
   ],
   "source": [
    "# RECAPS\n",
    "# mean over tasks -recaps - and populate megadict\n",
    "\n",
    "megadict['recaps']={}\n",
    "pickle_dicts=['epi_recap_temp_corr_no_bin','epi_recap_spatial_corr_per_tr','epi_recap_spatial_corr_bin_10s','epi_recap_spatial_corr_bin_30s']\n",
    "for this_dict_name in pickle_dicts:\n",
    "    print(this_dict_name)\n",
    "    this_dict=eval(this_dict_name).copy()\n",
    "    this_task=None\n",
    "    this_roi=None\n",
    "    mean_over_tasks_dict={}\n",
    "    all_tasks_dict={} # all tasks data - for use as features later\n",
    "\n",
    "    #this_task=for this_task in this_dict.keys():\n",
    "    for this_roi_name in masks.keys():\n",
    "        print(this_roi_name)\n",
    "        mean_over_tasks_dict[this_roi_name]={}\n",
    "        all_tasks_dict[this_roi_name]={}\n",
    "        for this_hemi in hemispheres:\n",
    "            mean_over_tasks_dict[this_roi_name][this_hemi]={}\n",
    "            all_tasks_dict[this_roi_name][this_hemi]={}\n",
    "            print(this_hemi)\n",
    "            for vs in ['rvals_vs_experts', 'rvals_vs_group']:\n",
    "                print(vs)\n",
    "                mean_over_tasks_dict[this_roi_name][this_hemi][vs]={}\n",
    "                all_tasks_dict[this_roi_name][this_hemi][vs]={}\n",
    "                null_task=list(this_dict.keys())[0]\n",
    "                n_sub=this_dict[null_task][this_roi_name][this_hemi][vs].shape[0]\n",
    "                # all_corrs: mean over all tasks\n",
    "                all_corrs=np.zeros([n_sub,len(this_dict.keys())]) # subjects, tasks\n",
    "                for i_this_task,this_task in enumerate(this_dict.keys()):\n",
    "                    all_corrs[:,i_this_task]=this_dict[this_task][this_roi_name][this_hemi][vs]\n",
    "                # update dict - mean over tasks after Fisher transform\n",
    "                mean_over_tasks_dict[this_roi_name][this_hemi][vs]=np.tanh(np.mean(np.arctanh(all_corrs),axis=1))\n",
    "                #mean_over_tasks_dict[this_roi_name][this_hemi][vs]=np.mean(all_corrs,axis=1) # no fisher\n",
    "                mean_over_tasks_dict[this_roi_name][this_hemi]['student_names']=this_dict[this_task][this_roi_name][this_hemi]['student_names'].copy()\n",
    "                # update dict - per task\n",
    "                all_tasks_dict[this_roi_name][this_hemi][vs]=all_corrs.copy()\n",
    "                all_tasks_dict[this_roi_name][this_hemi]['student_names']=this_dict[this_task][this_roi_name][this_hemi]['student_names'].copy()\n",
    "            if 'experts_vs_group' in this_dict[this_task][this_roi_name][this_hemi].keys(): # update direct st-ex comparison if exists\n",
    "                vs='experts_vs_group'\n",
    "                print(vs)\n",
    "                all_rval_across_st=np.zeros([len(this_dict.keys())]) # direct rval in every task\n",
    "                all_dist_across_st=np.zeros([len(this_dict.keys()),num_perms]) # tasks x perms\n",
    "                for i_this_task,this_task in enumerate(this_dict.keys()):\n",
    "                    all_rval_across_st[i_this_task]=this_dict[this_task][this_roi_name][this_hemi][vs]['rval_across_st'].copy()\n",
    "                    all_dist_across_st[i_this_task,:]=this_dict[this_task][this_roi_name][this_hemi][vs]['dist_across_st'].copy()\n",
    "                # update dict - per task\n",
    "                all_tasks_dict[this_roi_name][this_hemi][vs]={}\n",
    "                all_tasks_dict[this_roi_name][this_hemi][vs]['rval_across_st']=all_rval_across_st.copy()\n",
    "                all_tasks_dict[this_roi_name][this_hemi][vs]['dist_across_st']=all_dist_across_st.copy()\n",
    "                # update dict - mean over tasks after Fisher transform\n",
    "                mean_over_tasks_dict[this_roi_name][this_hemi][vs]={}\n",
    "                rval=np.tanh(np.mean(np.arctanh(all_rval_across_st)))\n",
    "                dist=np.tanh(np.mean(np.arctanh(all_dist_across_st),axis=0))\n",
    "                pval = isc.p_from_null(rval,dist,side='right',exact=False,axis=0)\n",
    "                mean_over_tasks_dict[this_roi_name][this_hemi][vs]['rval']=rval.copy()\n",
    "                mean_over_tasks_dict[this_roi_name][this_hemi][vs]['pval']=pval.copy()\n",
    "    # update original dict\n",
    "    this_dict['mean_over_tasks']=mean_over_tasks_dict\n",
    "    this_dict['all_tasks']=all_tasks_dict\n",
    "    #eval(this_dict_name)=this_dict.copy()\n",
    "    megadict['recaps'][this_dict_name]=this_dict.copy()\n",
    "    ###\n",
    "\n",
    "    "
   ]
  },
  {
   "cell_type": "markdown",
   "metadata": {},
   "source": [
    "Run the following three cells for Fig. 3, table 3 ('direct')"
   ]
  },
  {
   "cell_type": "code",
   "execution_count": 29,
   "metadata": {},
   "outputs": [
    {
     "data": {
      "text/html": [
       "<div>\n",
       "<style scoped>\n",
       "    .dataframe tbody tr th:only-of-type {\n",
       "        vertical-align: middle;\n",
       "    }\n",
       "\n",
       "    .dataframe tbody tr th {\n",
       "        vertical-align: top;\n",
       "    }\n",
       "\n",
       "    .dataframe thead th {\n",
       "        text-align: right;\n",
       "    }\n",
       "</style>\n",
       "<table border=\"1\" class=\"dataframe\">\n",
       "  <thead>\n",
       "    <tr style=\"text-align: right;\">\n",
       "      <th></th>\n",
       "      <th>isc_type</th>\n",
       "      <th>roi_type</th>\n",
       "      <th>roi_name</th>\n",
       "      <th>roi_hemi</th>\n",
       "      <th>n_voxels</th>\n",
       "      <th>rval</th>\n",
       "      <th>pval</th>\n",
       "      <th>fdr_pval</th>\n",
       "    </tr>\n",
       "  </thead>\n",
       "  <tbody>\n",
       "    <tr>\n",
       "      <th>0</th>\n",
       "      <td>spatial_bin30s</td>\n",
       "      <td>anatomical</td>\n",
       "      <td>Hippocampus</td>\n",
       "      <td>bilateral</td>\n",
       "      <td>668</td>\n",
       "      <td>0.083704</td>\n",
       "      <td>0.020979</td>\n",
       "      <td>0.023976</td>\n",
       "    </tr>\n",
       "    <tr>\n",
       "      <th>0</th>\n",
       "      <td>spatial_bin30s</td>\n",
       "      <td>anatomical</td>\n",
       "      <td>Precuneous</td>\n",
       "      <td>bilateral</td>\n",
       "      <td>2845</td>\n",
       "      <td>0.428380</td>\n",
       "      <td>0.000999</td>\n",
       "      <td>0.001998</td>\n",
       "    </tr>\n",
       "    <tr>\n",
       "      <th>0</th>\n",
       "      <td>spatial_bin30s</td>\n",
       "      <td>anatomical</td>\n",
       "      <td>Cingulate-ant</td>\n",
       "      <td>bilateral</td>\n",
       "      <td>1092</td>\n",
       "      <td>0.134750</td>\n",
       "      <td>0.001998</td>\n",
       "      <td>0.003197</td>\n",
       "    </tr>\n",
       "    <tr>\n",
       "      <th>0</th>\n",
       "      <td>spatial_bin30s</td>\n",
       "      <td>anatomical</td>\n",
       "      <td>Angular</td>\n",
       "      <td>bilateral</td>\n",
       "      <td>1783</td>\n",
       "      <td>0.468916</td>\n",
       "      <td>0.000999</td>\n",
       "      <td>0.001998</td>\n",
       "    </tr>\n",
       "    <tr>\n",
       "      <th>0</th>\n",
       "      <td>spatial_bin30s</td>\n",
       "      <td>anatomical</td>\n",
       "      <td>Amygdala</td>\n",
       "      <td>bilateral</td>\n",
       "      <td>318</td>\n",
       "      <td>0.085407</td>\n",
       "      <td>0.025974</td>\n",
       "      <td>0.025974</td>\n",
       "    </tr>\n",
       "    <tr>\n",
       "      <th>0</th>\n",
       "      <td>spatial_bin30s</td>\n",
       "      <td>anatomical</td>\n",
       "      <td>Heschls</td>\n",
       "      <td>bilateral</td>\n",
       "      <td>454</td>\n",
       "      <td>0.120928</td>\n",
       "      <td>0.002997</td>\n",
       "      <td>0.003996</td>\n",
       "    </tr>\n",
       "    <tr>\n",
       "      <th>0</th>\n",
       "      <td>spatial_bin30s</td>\n",
       "      <td>anatomical</td>\n",
       "      <td>STG-post</td>\n",
       "      <td>bilateral</td>\n",
       "      <td>856</td>\n",
       "      <td>0.246970</td>\n",
       "      <td>0.000999</td>\n",
       "      <td>0.001998</td>\n",
       "    </tr>\n",
       "    <tr>\n",
       "      <th>0</th>\n",
       "      <td>spatial_bin30s</td>\n",
       "      <td>anatomical</td>\n",
       "      <td>Intracalcarine</td>\n",
       "      <td>bilateral</td>\n",
       "      <td>925</td>\n",
       "      <td>0.632837</td>\n",
       "      <td>0.000999</td>\n",
       "      <td>0.001998</td>\n",
       "    </tr>\n",
       "  </tbody>\n",
       "</table>\n",
       "</div>"
      ],
      "text/plain": [
       "         isc_type    roi_type        roi_name   roi_hemi  n_voxels      rval  \\\n",
       "0  spatial_bin30s  anatomical     Hippocampus  bilateral       668  0.083704   \n",
       "0  spatial_bin30s  anatomical      Precuneous  bilateral      2845  0.428380   \n",
       "0  spatial_bin30s  anatomical   Cingulate-ant  bilateral      1092  0.134750   \n",
       "0  spatial_bin30s  anatomical         Angular  bilateral      1783  0.468916   \n",
       "0  spatial_bin30s  anatomical        Amygdala  bilateral       318  0.085407   \n",
       "0  spatial_bin30s  anatomical         Heschls  bilateral       454  0.120928   \n",
       "0  spatial_bin30s  anatomical        STG-post  bilateral       856  0.246970   \n",
       "0  spatial_bin30s  anatomical  Intracalcarine  bilateral       925  0.632837   \n",
       "\n",
       "       pval  fdr_pval  \n",
       "0  0.020979  0.023976  \n",
       "0  0.000999  0.001998  \n",
       "0  0.001998  0.003197  \n",
       "0  0.000999  0.001998  \n",
       "0  0.025974  0.025974  \n",
       "0  0.002997  0.003996  \n",
       "0  0.000999  0.001998  \n",
       "0  0.000999  0.001998  "
      ]
     },
     "execution_count": 29,
     "metadata": {},
     "output_type": "execute_result"
    }
   ],
   "source": [
    "#part A - df\n",
    "## direct st-ex sim comparison performed in bins \n",
    "\n",
    "this_dict_name='epi_recap_spatial_corr_bin_30s'\n",
    "sim_st_ex_df=pd.DataFrame() # results\n",
    "\n",
    "# assign mean over tasks to mean_dict\n",
    "mean_dict=megadict['recaps'][this_dict_name]['mean_over_tasks'].copy()\n",
    "score_df=outcomes_df.dropna()['placement'] \n",
    "\n",
    "# make df for mean (result)\n",
    "for this_roi_name in ['Hippocampus','Precuneous','Cingulate-ant','Angular','Amygdala','Heschls','STG-post','Intracalcarine']:\n",
    "#for this_roi_name in masks.keys():\n",
    "    for this_hemi in ['bilateral']:\n",
    "        rval=mean_dict[this_roi_name][this_hemi]['experts_vs_group']['rval']\n",
    "        pval=mean_dict[this_roi_name][this_hemi]['experts_vs_group']['pval']\n",
    "        \n",
    "        nvox=int(np.sum(masks[this_roi_name]['all_voxels'][this_hemi]))\n",
    "        temp_df=pd.DataFrame({'isc_type': 'spatial_bin30s',\\\n",
    "                                               'roi_type': 'anatomical',\\\n",
    "                                               'roi_name': this_roi_name,\\\n",
    "                                               'roi_hemi': this_hemi,\\\n",
    "                                               'n_voxels':nvox,\\\n",
    "                                               'rval':rval,\\\n",
    "                                               'pval':pval},index=[0])\n",
    "        sim_st_ex_df=sim_st_ex_df.append(temp_df)\n",
    "        \n",
    "        \n",
    "# calc fdr and show result df       \n",
    "sim_st_ex_df['fdr_pval']=fdr_correction(sim_st_ex_df.pval)[1]\n",
    "sim_st_ex_df\n",
    "\n"
   ]
  },
  {
   "cell_type": "code",
   "execution_count": 72,
   "metadata": {
    "scrolled": true
   },
   "outputs": [
    {
     "name": "stdout",
     "output_type": "stream",
     "text": [
      "16\n"
     ]
    },
    {
     "data": {
      "text/plain": [
       "[<matplotlib.lines.Line2D at 0x7fd57ae42550>]"
      ]
     },
     "execution_count": 72,
     "metadata": {},
     "output_type": "execute_result"
    },
    {
     "data": {
      "text/plain": [
       "[<matplotlib.lines.Line2D at 0x7fd57ac5ed90>]"
      ]
     },
     "execution_count": 72,
     "metadata": {},
     "output_type": "execute_result"
    },
    {
     "data": {
      "text/plain": [
       "[<matplotlib.lines.Line2D at 0x7fd57ae29f10>]"
      ]
     },
     "execution_count": 72,
     "metadata": {},
     "output_type": "execute_result"
    },
    {
     "data": {
      "text/plain": [
       "[<matplotlib.lines.Line2D at 0x7fd57f99ba90>]"
      ]
     },
     "execution_count": 72,
     "metadata": {},
     "output_type": "execute_result"
    },
    {
     "data": {
      "text/plain": [
       "[<matplotlib.lines.Line2D at 0x7fd53c56fe10>]"
      ]
     },
     "execution_count": 72,
     "metadata": {},
     "output_type": "execute_result"
    },
    {
     "data": {
      "text/plain": [
       "[<matplotlib.lines.Line2D at 0x7fd57ae29610>]"
      ]
     },
     "execution_count": 72,
     "metadata": {},
     "output_type": "execute_result"
    },
    {
     "data": {
      "text/plain": [
       "[<matplotlib.lines.Line2D at 0x7fd53c570690>]"
      ]
     },
     "execution_count": 72,
     "metadata": {},
     "output_type": "execute_result"
    },
    {
     "data": {
      "text/plain": [
       "[<matplotlib.lines.Line2D at 0x7fd57a26a090>]"
      ]
     },
     "execution_count": 72,
     "metadata": {},
     "output_type": "execute_result"
    },
    {
     "data": {
      "text/plain": [
       "[<matplotlib.lines.Line2D at 0x7fd53c570f50>]"
      ]
     },
     "execution_count": 72,
     "metadata": {},
     "output_type": "execute_result"
    },
    {
     "data": {
      "text/plain": [
       "[<matplotlib.lines.Line2D at 0x7fd57ae29c50>]"
      ]
     },
     "execution_count": 72,
     "metadata": {},
     "output_type": "execute_result"
    },
    {
     "data": {
      "text/plain": [
       "[<matplotlib.lines.Line2D at 0x7fd57a26a110>]"
      ]
     },
     "execution_count": 72,
     "metadata": {},
     "output_type": "execute_result"
    },
    {
     "data": {
      "text/plain": [
       "[<matplotlib.lines.Line2D at 0x7fd58079c790>]"
      ]
     },
     "execution_count": 72,
     "metadata": {},
     "output_type": "execute_result"
    },
    {
     "data": {
      "text/plain": [
       "[<matplotlib.lines.Line2D at 0x7fd56c4a87d0>]"
      ]
     },
     "execution_count": 72,
     "metadata": {},
     "output_type": "execute_result"
    },
    {
     "data": {
      "text/plain": [
       "[<matplotlib.lines.Line2D at 0x7fd57ae21410>]"
      ]
     },
     "execution_count": 72,
     "metadata": {},
     "output_type": "execute_result"
    },
    {
     "data": {
      "text/plain": [
       "[<matplotlib.lines.Line2D at 0x7fd57a260550>]"
      ]
     },
     "execution_count": 72,
     "metadata": {},
     "output_type": "execute_result"
    },
    {
     "data": {
      "text/plain": [
       "[<matplotlib.lines.Line2D at 0x7fd57a280cd0>]"
      ]
     },
     "execution_count": 72,
     "metadata": {},
     "output_type": "execute_result"
    },
    {
     "data": {
      "text/plain": [
       "[<matplotlib.lines.Line2D at 0x7fd56c5e0390>]"
      ]
     },
     "execution_count": 72,
     "metadata": {},
     "output_type": "execute_result"
    },
    {
     "data": {
      "text/plain": [
       "[<matplotlib.lines.Line2D at 0x7fd56c5e0290>]"
      ]
     },
     "execution_count": 72,
     "metadata": {},
     "output_type": "execute_result"
    },
    {
     "data": {
      "text/plain": [
       "[<matplotlib.lines.Line2D at 0x7fd57a260a90>]"
      ]
     },
     "execution_count": 72,
     "metadata": {},
     "output_type": "execute_result"
    },
    {
     "data": {
      "text/plain": [
       "[<matplotlib.lines.Line2D at 0x7fd56c5c0610>]"
      ]
     },
     "execution_count": 72,
     "metadata": {},
     "output_type": "execute_result"
    },
    {
     "data": {
      "text/plain": [
       "[<matplotlib.lines.Line2D at 0x7fd56c5c0dd0>]"
      ]
     },
     "execution_count": 72,
     "metadata": {},
     "output_type": "execute_result"
    },
    {
     "data": {
      "text/plain": [
       "[<matplotlib.lines.Line2D at 0x7fd57a260a10>]"
      ]
     },
     "execution_count": 72,
     "metadata": {},
     "output_type": "execute_result"
    },
    {
     "data": {
      "text/plain": [
       "[<matplotlib.lines.Line2D at 0x7fd56c5bd510>]"
      ]
     },
     "execution_count": 72,
     "metadata": {},
     "output_type": "execute_result"
    },
    {
     "data": {
      "text/plain": [
       "[<matplotlib.lines.Line2D at 0x7fd56c5bdf50>]"
      ]
     },
     "execution_count": 72,
     "metadata": {},
     "output_type": "execute_result"
    },
    {
     "data": {
      "text/plain": [
       "[<matplotlib.lines.Line2D at 0x7fd57a271890>]"
      ]
     },
     "execution_count": 72,
     "metadata": {},
     "output_type": "execute_result"
    },
    {
     "data": {
      "text/plain": [
       "[<matplotlib.lines.Line2D at 0x7fd56c5c3710>]"
      ]
     },
     "execution_count": 72,
     "metadata": {},
     "output_type": "execute_result"
    },
    {
     "data": {
      "text/plain": [
       "[<matplotlib.lines.Line2D at 0x7fd56c5c3bd0>]"
      ]
     },
     "execution_count": 72,
     "metadata": {},
     "output_type": "execute_result"
    },
    {
     "data": {
      "text/plain": [
       "[<matplotlib.lines.Line2D at 0x7fd56c240490>]"
      ]
     },
     "execution_count": 72,
     "metadata": {},
     "output_type": "execute_result"
    },
    {
     "data": {
      "text/plain": [
       "[<matplotlib.lines.Line2D at 0x7fd5740af690>]"
      ]
     },
     "execution_count": 72,
     "metadata": {},
     "output_type": "execute_result"
    },
    {
     "data": {
      "text/plain": [
       "[<matplotlib.lines.Line2D at 0x7fd56c5c0a50>]"
      ]
     },
     "execution_count": 72,
     "metadata": {},
     "output_type": "execute_result"
    },
    {
     "data": {
      "text/plain": [
       "Text(0.5, 0, 'Alignment to class')"
      ]
     },
     "execution_count": 72,
     "metadata": {},
     "output_type": "execute_result"
    },
    {
     "data": {
      "text/plain": [
       "Text(0, 0.5, 'Alignment to experts')"
      ]
     },
     "execution_count": 72,
     "metadata": {},
     "output_type": "execute_result"
    },
    {
     "data": {
      "text/plain": [
       "(-0.4, 1.1)"
      ]
     },
     "execution_count": 72,
     "metadata": {},
     "output_type": "execute_result"
    },
    {
     "data": {
      "text/plain": [
       "(-0.4, 1.1)"
      ]
     },
     "execution_count": 72,
     "metadata": {},
     "output_type": "execute_result"
    },
    {
     "data": {
      "text/plain": [
       "Text(0.5, 1.0, 'Direct st-ex alignment corr in\\nCingulate-ant-bilateral\\nrval=0.117')"
      ]
     },
     "execution_count": 72,
     "metadata": {},
     "output_type": "execute_result"
    },
    {
     "data": {
      "text/plain": [
       "<matplotlib.collections.PathCollection at 0x7fd56c50c490>"
      ]
     },
     "execution_count": 72,
     "metadata": {},
     "output_type": "execute_result"
    },
    {
     "data": {
      "text/plain": [
       "[<matplotlib.lines.Line2D at 0x7fd56c4f6410>]"
      ]
     },
     "execution_count": 72,
     "metadata": {},
     "output_type": "execute_result"
    },
    {
     "data": {
      "text/plain": [
       "Text(0.5, 0, 'Alignment to class')"
      ]
     },
     "execution_count": 72,
     "metadata": {},
     "output_type": "execute_result"
    },
    {
     "data": {
      "text/plain": [
       "Text(0, 0.5, 'Alignment to experts')"
      ]
     },
     "execution_count": 72,
     "metadata": {},
     "output_type": "execute_result"
    },
    {
     "data": {
      "text/plain": [
       "(-0.4, 1.1)"
      ]
     },
     "execution_count": 72,
     "metadata": {},
     "output_type": "execute_result"
    },
    {
     "data": {
      "text/plain": [
       "(-0.4, 1.1)"
      ]
     },
     "execution_count": 72,
     "metadata": {},
     "output_type": "execute_result"
    },
    {
     "data": {
      "text/plain": [
       "Text(0.5, 1.0, 'Direct st-ex alignment corr in\\nCingulate-ant-bilateral\\nrval=0.809')"
      ]
     },
     "execution_count": 72,
     "metadata": {},
     "output_type": "execute_result"
    },
    {
     "data": {
      "image/png": "[encoded data removed]",
      "text/plain": [
       "<Figure size 360x360 with 1 Axes>"
      ]
     },
     "metadata": {
      "image/png": {
       "height": 335,
       "width": 342
      }
     },
     "output_type": "display_data"
    },
    {
     "data": {
      "image/png": "[encoded data removed]",
      "text/plain": [
       "<Figure size 360x360 with 1 Axes>"
      ]
     },
     "metadata": {
      "image/png": {
       "height": 335,
       "width": 342
      }
     },
     "output_type": "display_data"
    }
   ],
   "source": [
    "#part B - jpg - multiple regression lines like in placement\n",
    "\n",
    "#this_dict_name='epi_recap_spatial_corr_bin_30s'\n",
    "# assign raw individual st data to jpg_dict, was not saved in megadict\n",
    "# NOTE rvals shown in title refer to mean across 29 bins all recaps, not within recap and then across recaps, so slight discrepency: for ms take correct vals from df\n",
    "jpg_dict=epi_recap_spatial_corr_bin_30s\n",
    "#this_dict[this_task][this_roi_name][this_hemi][vs]['rvals_per_student']['_vs_group'].shape\n",
    "#total_nbins=0\n",
    "coeffs=None\n",
    "\n",
    "#for this_roi_name in ['Hippocampus','Precuneous','Cingulate-ant','Angular','Amygdala','Heschls','STG-post','Intracalcarine']:\n",
    "for this_roi_name in ['Cingulate-ant']:\n",
    "#for this_roi_name in masks.keys():\n",
    "    for this_hemi in ['bilateral']:\n",
    "        coeffs_df=pd.DataFrame() #n_bins in task X 3 [rval, coeff a, coeff b]\n",
    "        #for i_this_task,this_task in enumerate(this_dict.keys()):\n",
    "        for i_this_task,this_task in enumerate(jpg_dict.keys()):\n",
    "            vs_group_data=jpg_dict[this_task][this_roi_name][this_hemi]['experts_vs_group']['rvals_per_student']['_vs_group'].copy()\n",
    "            vs_experts_data=jpg_dict[this_task][this_roi_name][this_hemi]['experts_vs_group']['rvals_per_student']['_vs_experts'].copy()          \n",
    "            for this_bin in np.arange(vs_group_data.shape[1]):\n",
    "                x=vs_group_data[:,this_bin]\n",
    "                y=vs_experts_data[:,this_bin]\n",
    "                regline=np.polyfit(x, y, 1)\n",
    "                rvals=func_corr_and_null_dist(x,y,num_perms=0)[0]\n",
    "                temp_df=pd.DataFrame({'irecap': i_this_task,\\\n",
    "                                      'ibin': this_bin,\\\n",
    "                                      'rval':rvals,\n",
    "                                      'coeff_a':regline[0],\n",
    "                                      'coeff_b':regline[1]},index=[0])\n",
    "                coeffs_df=coeffs_df.append(temp_df) # coeffs holds rvals, coeffs, for all bins in all recaps, this roi\n",
    "        \n",
    "        #get the bins for indivdual scatterplot figure\n",
    "        individual_bins=np.array([i for i in list(np.argsort(-coeffs_df['rval'])[:3])]) # 3 students with top rvals\n",
    "        \n",
    "        #for individual_bin in individual_bins: # go over top bins in df\n",
    "        for individual_bin in [16]: # select specific bin for \n",
    "            print(individual_bin)\n",
    "            #plot trendlines figure\n",
    "            sns.set_context('talk')\n",
    "            f, ax = plt.subplots(1,1, figsize = (5, 5))\n",
    "            ax.grid(b=None)\n",
    "            for ibin in range(len(coeffs_df)):\n",
    "                p=np.poly1d(coeffs_df.iloc[ibin][['coeff_a','coeff_b']].values)\n",
    "                x=np.arange(-1.1,2.1)\n",
    "                if ibin==individual_bin: # mark individual bin in next fig in red\n",
    "                    clr='red'\n",
    "                    ax.plot(x,p(x),clr,linewidth=2)\n",
    "                elif coeffs_df['rval'].values[ibin]>0:\n",
    "                    #clr='green'\n",
    "                    clr='grey'\n",
    "                    ax.plot(x,p(x),clr,linewidth=0.5) \n",
    "                else:\n",
    "                    #clr='blue'  \n",
    "                    clr='grey'\n",
    "                    ax.plot(x,p(x),clr,linewidth=0.5)\n",
    "            p=np.poly1d(coeffs_df[['coeff_a','coeff_b']].mean().values)\n",
    "            x=np.arange(-1.1,2.1)\n",
    "            #ax.plot(x,p(x),\"red\",linewidth=2)\n",
    "            ax.plot(x,p(x),\"black\",linewidth=4)          \n",
    "            plt.xlabel('Alignment to class')\n",
    "            plt.ylabel('Alignment to experts')\n",
    "            plt.xlim(-0.4,1.1)\n",
    "            plt.ylim(-0.4,1.1)\n",
    "            #title\n",
    "            mean_rval=np.arctanh(np.mean(np.tanh(coeffs_df['rval'].values)))\n",
    "            ax.set_title('Direct st-ex alignment corr in\\n{}-{}\\nrval={:.3f}'.format(this_roi_name,this_hemi,mean_rval,fontsize=10))           \n",
    "            #save\n",
    "            ax.grid(b=None)\n",
    "            #save_filename=join(output_path,'vid_similarity_st_ex','jpg','recaps_{}-{}-direct-bin{}.ps'.format(this_roi_name,this_hemi,individual_bin))\n",
    "            #plt.savefig(save_filename,dpi=150)\n",
    "            #save_filename=join(output_path,'vid_similarity_st_ex','jpg','recaps_{}-{}-direct-bin{}.png'.format(this_roi_name,this_hemi,individual_bin))\n",
    "            #plt.savefig(save_filename,dpi=150)\n",
    "\n",
    "            # plot collapsed across bins\n",
    "            # get recap and bin number for this individual bin\n",
    "            irecap,ibin=coeffs_df.iloc[individual_bin][['irecap','ibin']].values.astype(np.int)\n",
    "            # xy coords\n",
    "            x = jpg_dict[list(this_dict.keys())[irecap]][this_roi_name][this_hemi]['experts_vs_group']['rvals_per_student']['_vs_group'][:,ibin]\n",
    "            y = jpg_dict[list(this_dict.keys())[irecap]][this_roi_name][this_hemi]['experts_vs_group']['rvals_per_student']['_vs_experts'][:,ibin]\n",
    "            #plot\n",
    "            sns.set_context(\"talk\")#, font_scale=1.2)\n",
    "            f, ax = plt.subplots(1,1, figsize = (5, 5))\n",
    "            ax.scatter(x,y,color='darkorange')\n",
    "            \n",
    "            # trendline\n",
    "            z=np.polyfit(x, y, 1)\n",
    "            p = np.poly1d(z)\n",
    "            pltx=np.arange(-1.1,2.1) # extend trandline to axes\n",
    "            ax.plot(pltx,p(pltx),\"r\",linewidth=2)\n",
    "            # save to recreate fig\n",
    "            pltx_save[:,ibin]=pltx\n",
    "            plty_save[:,ibin]=p(pltx)\n",
    "            # labels\n",
    "            plt.xlabel('Alignment to class')\n",
    "            plt.ylabel('Alignment to experts')\n",
    "            plt.xlim(-0.4,1.1)\n",
    "            plt.ylim(-0.4,1.1)\n",
    "            this_bin_rval=coeffs_df['rval'].values[individual_bin]\n",
    "            ax.set_title('Direct st-ex alignment corr in\\n{}-{}\\nrval={:.3f}'.format(this_roi_name,this_hemi,this_bin_rval,fontsize=10))                  \n",
    "            sns.set_style(\"whitegrid\", {'axes.grid' : False})\n",
    "            #save           \n",
    "            #save_filename=join(output_path,'vid_similarity_st_ex','jpg','single_subject','recaps_{}-{}-direct-bin{}.ps'.format(this_roi_name,this_hemi,individual_bin))\n",
    "            #plt.savefig(save_filename,dpi=150)\n",
    "            #save_filename=join(output_path,'vid_similarity_st_ex','jpg','single_subject','recaps_{}-{}-direct-bin{}.png'.format(this_roi_name,this_hemi,individual_bin))\n",
    "            #plt.savefig(save_filename,dpi=150)\n",
    "\n",
    "            \n",
    "\n",
    "    "
   ]
  },
  {
   "cell_type": "code",
   "execution_count": 73,
   "metadata": {
    "scrolled": true
   },
   "outputs": [
    {
     "data": {
      "text/plain": [
       "array([ 0.23018255,  0.0027728 ,  0.45618652, -0.3342973 ,  0.3466052 ,\n",
       "       -0.41885273, -0.2258044 , -0.4391284 ,  0.02313888, -0.01237421,\n",
       "        0.45254945,  0.49478564, -0.20604403,  0.56531302,  0.53278713,\n",
       "       -0.06825042,  0.23820945,  0.60857795,  0.10285947,  0.53423276])"
      ]
     },
     "execution_count": 73,
     "metadata": {},
     "output_type": "execute_result"
    },
    {
     "data": {
      "text/plain": [
       "array([ 0.3083655 , -0.06190647,  0.41735735,  0.09547779,  0.1473732 ,\n",
       "       -0.50817172, -0.17329685, -0.29263166,  0.03852308,  0.29805841,\n",
       "        0.52865763,  0.38140198, -0.28133681,  0.4935457 ,  0.26755457,\n",
       "       -0.15117034,  0.13186137,  0.25920179,  0.33694055,  0.14222334])"
      ]
     },
     "execution_count": 73,
     "metadata": {},
     "output_type": "execute_result"
    },
    {
     "data": {
      "text/html": [
       "<div>\n",
       "<style scoped>\n",
       "    .dataframe tbody tr th:only-of-type {\n",
       "        vertical-align: middle;\n",
       "    }\n",
       "\n",
       "    .dataframe tbody tr th {\n",
       "        vertical-align: top;\n",
       "    }\n",
       "\n",
       "    .dataframe thead th {\n",
       "        text-align: right;\n",
       "    }\n",
       "</style>\n",
       "<table border=\"1\" class=\"dataframe\">\n",
       "  <thead>\n",
       "    <tr style=\"text-align: right;\">\n",
       "      <th></th>\n",
       "      <th>irecap</th>\n",
       "      <th>ibin</th>\n",
       "      <th>rval</th>\n",
       "      <th>coeff_a</th>\n",
       "      <th>coeff_b</th>\n",
       "    </tr>\n",
       "  </thead>\n",
       "  <tbody>\n",
       "    <tr>\n",
       "      <th>0</th>\n",
       "      <td>0</td>\n",
       "      <td>0</td>\n",
       "      <td>-0.855614</td>\n",
       "      <td>-0.420780</td>\n",
       "      <td>-0.006044</td>\n",
       "    </tr>\n",
       "    <tr>\n",
       "      <th>0</th>\n",
       "      <td>0</td>\n",
       "      <td>1</td>\n",
       "      <td>0.635352</td>\n",
       "      <td>0.406553</td>\n",
       "      <td>0.041185</td>\n",
       "    </tr>\n",
       "    <tr>\n",
       "      <th>0</th>\n",
       "      <td>0</td>\n",
       "      <td>2</td>\n",
       "      <td>0.729378</td>\n",
       "      <td>1.511719</td>\n",
       "      <td>0.018463</td>\n",
       "    </tr>\n",
       "    <tr>\n",
       "      <th>0</th>\n",
       "      <td>0</td>\n",
       "      <td>3</td>\n",
       "      <td>-0.084582</td>\n",
       "      <td>-0.070786</td>\n",
       "      <td>-0.033907</td>\n",
       "    </tr>\n",
       "    <tr>\n",
       "      <th>0</th>\n",
       "      <td>0</td>\n",
       "      <td>4</td>\n",
       "      <td>-0.046598</td>\n",
       "      <td>-0.040258</td>\n",
       "      <td>0.000074</td>\n",
       "    </tr>\n",
       "    <tr>\n",
       "      <th>0</th>\n",
       "      <td>0</td>\n",
       "      <td>5</td>\n",
       "      <td>0.604177</td>\n",
       "      <td>0.498252</td>\n",
       "      <td>0.065367</td>\n",
       "    </tr>\n",
       "    <tr>\n",
       "      <th>0</th>\n",
       "      <td>1</td>\n",
       "      <td>0</td>\n",
       "      <td>-0.234548</td>\n",
       "      <td>-0.140118</td>\n",
       "      <td>-0.025077</td>\n",
       "    </tr>\n",
       "    <tr>\n",
       "      <th>0</th>\n",
       "      <td>1</td>\n",
       "      <td>1</td>\n",
       "      <td>-0.775320</td>\n",
       "      <td>-0.730142</td>\n",
       "      <td>0.061474</td>\n",
       "    </tr>\n",
       "    <tr>\n",
       "      <th>0</th>\n",
       "      <td>1</td>\n",
       "      <td>2</td>\n",
       "      <td>-0.622874</td>\n",
       "      <td>-0.585587</td>\n",
       "      <td>0.030313</td>\n",
       "    </tr>\n",
       "    <tr>\n",
       "      <th>0</th>\n",
       "      <td>1</td>\n",
       "      <td>3</td>\n",
       "      <td>-0.179109</td>\n",
       "      <td>-0.302135</td>\n",
       "      <td>0.072329</td>\n",
       "    </tr>\n",
       "    <tr>\n",
       "      <th>0</th>\n",
       "      <td>1</td>\n",
       "      <td>4</td>\n",
       "      <td>0.475086</td>\n",
       "      <td>0.698477</td>\n",
       "      <td>0.051257</td>\n",
       "    </tr>\n",
       "    <tr>\n",
       "      <th>0</th>\n",
       "      <td>1</td>\n",
       "      <td>5</td>\n",
       "      <td>0.400786</td>\n",
       "      <td>0.486858</td>\n",
       "      <td>0.014882</td>\n",
       "    </tr>\n",
       "    <tr>\n",
       "      <th>0</th>\n",
       "      <td>2</td>\n",
       "      <td>0</td>\n",
       "      <td>-0.746371</td>\n",
       "      <td>-0.639752</td>\n",
       "      <td>-0.035152</td>\n",
       "    </tr>\n",
       "    <tr>\n",
       "      <th>0</th>\n",
       "      <td>2</td>\n",
       "      <td>1</td>\n",
       "      <td>-0.353197</td>\n",
       "      <td>-0.383122</td>\n",
       "      <td>0.042221</td>\n",
       "    </tr>\n",
       "    <tr>\n",
       "      <th>0</th>\n",
       "      <td>2</td>\n",
       "      <td>2</td>\n",
       "      <td>-0.866824</td>\n",
       "      <td>-0.714888</td>\n",
       "      <td>-0.030315</td>\n",
       "    </tr>\n",
       "    <tr>\n",
       "      <th>0</th>\n",
       "      <td>2</td>\n",
       "      <td>3</td>\n",
       "      <td>0.756782</td>\n",
       "      <td>0.874704</td>\n",
       "      <td>0.041305</td>\n",
       "    </tr>\n",
       "    <tr>\n",
       "      <th>0</th>\n",
       "      <td>2</td>\n",
       "      <td>4</td>\n",
       "      <td>0.809298</td>\n",
       "      <td>0.660550</td>\n",
       "      <td>0.023668</td>\n",
       "    </tr>\n",
       "    <tr>\n",
       "      <th>0</th>\n",
       "      <td>2</td>\n",
       "      <td>5</td>\n",
       "      <td>0.597195</td>\n",
       "      <td>0.541775</td>\n",
       "      <td>0.035746</td>\n",
       "    </tr>\n",
       "    <tr>\n",
       "      <th>0</th>\n",
       "      <td>3</td>\n",
       "      <td>0</td>\n",
       "      <td>0.331607</td>\n",
       "      <td>0.363758</td>\n",
       "      <td>0.011483</td>\n",
       "    </tr>\n",
       "    <tr>\n",
       "      <th>0</th>\n",
       "      <td>3</td>\n",
       "      <td>1</td>\n",
       "      <td>-0.048630</td>\n",
       "      <td>-0.048698</td>\n",
       "      <td>-0.003081</td>\n",
       "    </tr>\n",
       "    <tr>\n",
       "      <th>0</th>\n",
       "      <td>3</td>\n",
       "      <td>2</td>\n",
       "      <td>0.185074</td>\n",
       "      <td>0.223570</td>\n",
       "      <td>0.063490</td>\n",
       "    </tr>\n",
       "    <tr>\n",
       "      <th>0</th>\n",
       "      <td>3</td>\n",
       "      <td>3</td>\n",
       "      <td>0.087913</td>\n",
       "      <td>0.109937</td>\n",
       "      <td>0.055183</td>\n",
       "    </tr>\n",
       "    <tr>\n",
       "      <th>0</th>\n",
       "      <td>3</td>\n",
       "      <td>4</td>\n",
       "      <td>0.588435</td>\n",
       "      <td>0.935331</td>\n",
       "      <td>-0.021933</td>\n",
       "    </tr>\n",
       "    <tr>\n",
       "      <th>0</th>\n",
       "      <td>4</td>\n",
       "      <td>0</td>\n",
       "      <td>0.892383</td>\n",
       "      <td>0.876374</td>\n",
       "      <td>-0.014749</td>\n",
       "    </tr>\n",
       "    <tr>\n",
       "      <th>0</th>\n",
       "      <td>4</td>\n",
       "      <td>1</td>\n",
       "      <td>0.348432</td>\n",
       "      <td>0.230301</td>\n",
       "      <td>0.070985</td>\n",
       "    </tr>\n",
       "    <tr>\n",
       "      <th>0</th>\n",
       "      <td>4</td>\n",
       "      <td>2</td>\n",
       "      <td>0.188727</td>\n",
       "      <td>0.197852</td>\n",
       "      <td>0.063569</td>\n",
       "    </tr>\n",
       "    <tr>\n",
       "      <th>0</th>\n",
       "      <td>4</td>\n",
       "      <td>3</td>\n",
       "      <td>0.624179</td>\n",
       "      <td>1.031100</td>\n",
       "      <td>-0.014533</td>\n",
       "    </tr>\n",
       "    <tr>\n",
       "      <th>0</th>\n",
       "      <td>4</td>\n",
       "      <td>4</td>\n",
       "      <td>0.003068</td>\n",
       "      <td>0.006560</td>\n",
       "      <td>0.030166</td>\n",
       "    </tr>\n",
       "    <tr>\n",
       "      <th>0</th>\n",
       "      <td>4</td>\n",
       "      <td>5</td>\n",
       "      <td>0.244183</td>\n",
       "      <td>0.260023</td>\n",
       "      <td>0.050452</td>\n",
       "    </tr>\n",
       "  </tbody>\n",
       "</table>\n",
       "</div>"
      ],
      "text/plain": [
       "   irecap  ibin      rval   coeff_a   coeff_b\n",
       "0       0     0 -0.855614 -0.420780 -0.006044\n",
       "0       0     1  0.635352  0.406553  0.041185\n",
       "0       0     2  0.729378  1.511719  0.018463\n",
       "0       0     3 -0.084582 -0.070786 -0.033907\n",
       "0       0     4 -0.046598 -0.040258  0.000074\n",
       "0       0     5  0.604177  0.498252  0.065367\n",
       "0       1     0 -0.234548 -0.140118 -0.025077\n",
       "0       1     1 -0.775320 -0.730142  0.061474\n",
       "0       1     2 -0.622874 -0.585587  0.030313\n",
       "0       1     3 -0.179109 -0.302135  0.072329\n",
       "0       1     4  0.475086  0.698477  0.051257\n",
       "0       1     5  0.400786  0.486858  0.014882\n",
       "0       2     0 -0.746371 -0.639752 -0.035152\n",
       "0       2     1 -0.353197 -0.383122  0.042221\n",
       "0       2     2 -0.866824 -0.714888 -0.030315\n",
       "0       2     3  0.756782  0.874704  0.041305\n",
       "0       2     4  0.809298  0.660550  0.023668\n",
       "0       2     5  0.597195  0.541775  0.035746\n",
       "0       3     0  0.331607  0.363758  0.011483\n",
       "0       3     1 -0.048630 -0.048698 -0.003081\n",
       "0       3     2  0.185074  0.223570  0.063490\n",
       "0       3     3  0.087913  0.109937  0.055183\n",
       "0       3     4  0.588435  0.935331 -0.021933\n",
       "0       4     0  0.892383  0.876374 -0.014749\n",
       "0       4     1  0.348432  0.230301  0.070985\n",
       "0       4     2  0.188727  0.197852  0.063569\n",
       "0       4     3  0.624179  1.031100 -0.014533\n",
       "0       4     4  0.003068  0.006560  0.030166\n",
       "0       4     5  0.244183  0.260023  0.050452"
      ]
     },
     "execution_count": 73,
     "metadata": {},
     "output_type": "execute_result"
    }
   ],
   "source": [
    "# show x,y for figure 3\n",
    "x\n",
    "y\n",
    "coeffs_df\n"
   ]
  },
  {
   "cell_type": "markdown",
   "metadata": {},
   "source": [
    "Part (3): Analyze lecture videos"
   ]
  },
  {
   "cell_type": "code",
   "execution_count": null,
   "metadata": {
    "scrolled": true
   },
   "outputs": [
    {
     "name": "stdout",
     "output_type": "stream",
     "text": [
      "wk1_vid1-Amygdala-bilateral-full_roi\n",
      "wk1_vid1-Angular-bilateral-full_roi\n",
      "wk1_vid1-Cingulate-ant-bilateral-full_roi\n",
      "wk1_vid1-Heschls-bilateral-full_roi\n",
      "wk1_vid1-Hippocampus-bilateral-full_roi\n",
      "wk1_vid1-Intracalcarine-bilateral-full_roi\n",
      "wk1_vid1-Precuneous-bilateral-full_roi\n",
      "wk1_vid1-STG-post-bilateral-full_roi\n",
      "wk1_vid2-Amygdala-bilateral-full_roi\n",
      "wk1_vid2-Angular-bilateral-full_roi\n",
      "wk1_vid2-Cingulate-ant-bilateral-full_roi\n",
      "wk1_vid2-Heschls-bilateral-full_roi\n",
      "wk1_vid2-Hippocampus-bilateral-full_roi\n",
      "wk1_vid2-Intracalcarine-bilateral-full_roi\n",
      "wk1_vid2-Precuneous-bilateral-full_roi\n",
      "wk1_vid2-STG-post-bilateral-full_roi\n",
      "wk1_vid3-Amygdala-bilateral-full_roi\n",
      "wk1_vid3-Angular-bilateral-full_roi\n",
      "wk1_vid3-Cingulate-ant-bilateral-full_roi\n",
      "wk1_vid3-Heschls-bilateral-full_roi\n",
      "wk1_vid3-Hippocampus-bilateral-full_roi\n",
      "wk1_vid3-Intracalcarine-bilateral-full_roi\n",
      "wk1_vid3-Precuneous-bilateral-full_roi\n",
      "wk1_vid3-STG-post-bilateral-full_roi\n",
      "wk1_vid4-Amygdala-bilateral-full_roi\n",
      "wk1_vid4-Angular-bilateral-full_roi\n",
      "wk1_vid4-Cingulate-ant-bilateral-full_roi\n",
      "wk1_vid4-Heschls-bilateral-full_roi\n",
      "wk1_vid4-Hippocampus-bilateral-full_roi\n",
      "wk1_vid4-Intracalcarine-bilateral-full_roi\n",
      "wk1_vid4-Precuneous-bilateral-full_roi\n",
      "wk1_vid4-STG-post-bilateral-full_roi\n",
      "wk1_vid5-Amygdala-bilateral-full_roi\n",
      "wk1_vid5-Angular-bilateral-full_roi\n",
      "wk1_vid5-Cingulate-ant-bilateral-full_roi\n",
      "wk1_vid5-Heschls-bilateral-full_roi\n",
      "wk1_vid5-Hippocampus-bilateral-full_roi\n",
      "wk1_vid5-Intracalcarine-bilateral-full_roi\n",
      "wk1_vid5-Precuneous-bilateral-full_roi\n",
      "wk1_vid5-STG-post-bilateral-full_roi\n",
      "wk2_vid1-Amygdala-bilateral-full_roi\n",
      "wk2_vid1-Angular-bilateral-full_roi\n",
      "wk2_vid1-Cingulate-ant-bilateral-full_roi\n",
      "wk2_vid1-Heschls-bilateral-full_roi\n",
      "wk2_vid1-Hippocampus-bilateral-full_roi\n",
      "wk2_vid1-Intracalcarine-bilateral-full_roi\n",
      "wk2_vid1-Precuneous-bilateral-full_roi\n",
      "wk2_vid1-STG-post-bilateral-full_roi\n",
      "wk2_vid2-Amygdala-bilateral-full_roi\n",
      "wk2_vid2-Angular-bilateral-full_roi\n",
      "wk2_vid2-Cingulate-ant-bilateral-full_roi\n",
      "wk2_vid2-Heschls-bilateral-full_roi\n",
      "wk2_vid2-Hippocampus-bilateral-full_roi\n",
      "wk2_vid2-Intracalcarine-bilateral-full_roi\n",
      "wk2_vid2-Precuneous-bilateral-full_roi\n",
      "wk2_vid2-STG-post-bilateral-full_roi\n",
      "wk2_vid3-Amygdala-bilateral-full_roi\n",
      "wk2_vid3-Angular-bilateral-full_roi\n",
      "wk2_vid3-Cingulate-ant-bilateral-full_roi\n",
      "wk2_vid3-Heschls-bilateral-full_roi\n",
      "wk2_vid3-Hippocampus-bilateral-full_roi\n",
      "wk2_vid3-Intracalcarine-bilateral-full_roi\n",
      "wk2_vid3-Precuneous-bilateral-full_roi\n",
      "wk2_vid3-STG-post-bilateral-full_roi\n",
      "wk3_vid1-Amygdala-bilateral-full_roi\n",
      "wk3_vid1-Angular-bilateral-full_roi\n",
      "wk3_vid1-Cingulate-ant-bilateral-full_roi\n",
      "wk3_vid1-Heschls-bilateral-full_roi\n",
      "wk3_vid1-Hippocampus-bilateral-full_roi\n",
      "wk3_vid1-Intracalcarine-bilateral-full_roi\n",
      "wk3_vid1-Precuneous-bilateral-full_roi\n",
      "wk3_vid1-STG-post-bilateral-full_roi\n",
      "wk3_vid2-Amygdala-bilateral-full_roi\n",
      "wk3_vid2-Angular-bilateral-full_roi\n",
      "wk3_vid2-Cingulate-ant-bilateral-full_roi\n",
      "wk3_vid2-Heschls-bilateral-full_roi\n",
      "wk3_vid2-Hippocampus-bilateral-full_roi\n",
      "wk3_vid2-Intracalcarine-bilateral-full_roi\n",
      "wk3_vid2-Precuneous-bilateral-full_roi\n",
      "wk3_vid2-STG-post-bilateral-full_roi\n",
      "wk3_vid3-Amygdala-bilateral-full_roi\n",
      "wk3_vid3-Angular-bilateral-full_roi\n",
      "wk3_vid3-Cingulate-ant-bilateral-full_roi\n",
      "wk3_vid3-Heschls-bilateral-full_roi\n",
      "wk3_vid3-Hippocampus-bilateral-full_roi\n",
      "wk3_vid3-Intracalcarine-bilateral-full_roi\n",
      "wk3_vid3-Precuneous-bilateral-full_roi\n",
      "wk3_vid3-STG-post-bilateral-full_roi\n",
      "wk3_vid4-Amygdala-bilateral-full_roi\n",
      "wk3_vid4-Angular-bilateral-full_roi\n",
      "wk3_vid4-Cingulate-ant-bilateral-full_roi\n",
      "wk3_vid4-Heschls-bilateral-full_roi\n",
      "wk3_vid4-Hippocampus-bilateral-full_roi\n",
      "wk3_vid4-Intracalcarine-bilateral-full_roi\n",
      "wk3_vid4-Precuneous-bilateral-full_roi\n",
      "wk3_vid4-STG-post-bilateral-full_roi\n",
      "wk4_vid1-Amygdala-bilateral-full_roi\n",
      "wk4_vid1-Angular-bilateral-full_roi\n",
      "wk4_vid1-Cingulate-ant-bilateral-full_roi\n",
      "wk4_vid1-Heschls-bilateral-full_roi\n",
      "wk4_vid1-Hippocampus-bilateral-full_roi\n",
      "wk4_vid1-Intracalcarine-bilateral-full_roi\n"
     ]
    }
   ],
   "source": [
    "# LECTURES \n",
    "\n",
    "\n",
    "pickle_dicts=['epi_lecture_temp_corr_no_bin','epi_lecture_spatial_corr_per_tr','epi_lecture_spatial_corr_bin_10s','epi_lecture_spatial_corr_bin_30s']\n",
    "load_from_pickle=False\n",
    "if load_from_pickle:\n",
    "    for this_dict in pickle_dicts:\n",
    "        pickle_filename=join(pickles_path,'lectures_roi_data_isc_meanbin_dict_nothr_{}.p'.format(this_dict)) # temporal and spatial (spatial averaged over time bins)\n",
    "        exec('{}=pickle.load(open(pickle_filename, \\'rb\\'))'.format(this_dict))\n",
    "else: # redo, no load from pickle\n",
    "\n",
    "    # temporal correlations, no binning\n",
    "    epi_lecture_temp_corr_no_bin={} # repeat for spatial/temp. binning 10s, 30s, not just raw\n",
    "    # spatial correlation, per tr and w bin 30s,10s\n",
    "    epi_lecture_spatial_corr_per_tr={}\n",
    "    tr_length=2\n",
    "    bin_size_seconds_10=10\n",
    "    epi_lecture_spatial_corr_bin_10s={}\n",
    "    bin_size_seconds_30=30\n",
    "    epi_lecture_spatial_corr_bin_30s={}\n",
    "\n",
    "    lectures=sorted([r for r in all_sessions_and_tasks if 'vid' in r])\n",
    "    task_name_template=\".*(s\\d{3}).*(wk\\d+)_([0-9a-zA-Z]*)_6motion_mni\" # identify subject, session, task\n",
    "    for this_task in lectures:\n",
    "        #init dict for task\n",
    "        epi_lecture_temp_corr_no_bin[this_task]={}\n",
    "        epi_lecture_spatial_corr_per_tr[this_task]={}\n",
    "        epi_lecture_spatial_corr_bin_10s[this_task]={}\n",
    "        epi_lecture_spatial_corr_bin_30s[this_task]={}\n",
    "        for this_roi_name in sorted(masks.keys()): # iterate over all rois\n",
    "            # init dict for roi\n",
    "            epi_lecture_temp_corr_no_bin[this_task][this_roi_name]={}\n",
    "            epi_lecture_spatial_corr_per_tr[this_task][this_roi_name]={}\n",
    "            epi_lecture_spatial_corr_bin_10s[this_task][this_roi_name]={}\n",
    "            epi_lecture_spatial_corr_bin_30s[this_task][this_roi_name]={}\n",
    "            for this_hemisphere in hemispheres:\n",
    "                #init dict for hemisphere\n",
    "                epi_lecture_temp_corr_no_bin[this_task][this_roi_name][this_hemisphere]={}\n",
    "                epi_lecture_spatial_corr_per_tr[this_task][this_roi_name][this_hemisphere]={}\n",
    "                epi_lecture_spatial_corr_bin_10s[this_task][this_roi_name][this_hemisphere]={}\n",
    "                epi_lecture_spatial_corr_bin_30s[this_task][this_roi_name][this_hemisphere]={}\n",
    "\n",
    "                #student data\n",
    "                full_or_thresholded='full_roi' \n",
    "                print('{}-{}-{}-{}'.format(this_task,this_roi_name,this_hemisphere,full_or_thresholded))\n",
    "                this_data=epi_tasks_in_roi['students'][this_task]['roi_data'][this_roi_name][this_hemisphere]\n",
    "                this_data_transformed=transform_srm_space_to_isc_space(this_data) # vox, tr, sub - already zscored on time          \n",
    "\n",
    "                # temporal correlations\n",
    "                # for student vs other students mean mean corr (same video)\n",
    "                corr_student_vs_other_students_temporal=np.zeros(this_data_transformed.shape[2],) \n",
    "                # iterate over students\n",
    "                for i_this_student in range(len(corr_student_vs_other_students_temporal)):\n",
    "                    # for every student, corr with all other students\n",
    "                    this_student_mean_over_voxels=np.mean(this_data_transformed[:,:,i_this_student],0)\n",
    "                    other_students = np.mean(this_data_transformed[:, :, np.arange(this_data_transformed.shape[2]) != i_this_student], axis=2)\n",
    "                    other_students_mean_over_voxels=np.mean(other_students,0)\n",
    "                    rval_vs_other_students=stats.pearsonr(this_student_mean_over_voxels,other_students_mean_over_voxels)\n",
    "                    corr_student_vs_other_students_temporal[i_this_student]=rval_vs_other_students[0]\n",
    "                #update dict     \n",
    "                epi_lecture_temp_corr_no_bin[this_task][this_roi_name][this_hemisphere]['rvals_vs_group']=corr_student_vs_other_students_temporal # USE TO STORE CORR DATA WITH group (other students)\n",
    "                students_list=[re.search(task_name_template,this_file)[1] for this_file in epi_tasks_in_roi['students'][this_task]['filenames']] # student names\n",
    "                epi_lecture_temp_corr_no_bin[this_task][this_roi_name][this_hemisphere]['student_names']=students_list\n",
    "\n",
    "                # spatial correlations\n",
    "                number_of_bins_10s=np.int(np.floor(this_data_transformed.shape[1]/(bin_size_seconds_10/tr_length)))\n",
    "                number_of_bins_30s=np.int(np.floor(this_data_transformed.shape[1]/(bin_size_seconds_30/tr_length)))\n",
    "                # for student vs other students mean mean corr (same video)\n",
    "                corr_student_vs_other_students_spatial_per_tr=np.zeros([this_data_transformed.shape[2],this_data_transformed.shape[1]]) \n",
    "                corr_student_vs_other_students_spatial_10s=np.zeros([this_data_transformed.shape[2],number_of_bins_10s]) \n",
    "                corr_student_vs_other_students_spatial_30s=np.zeros([this_data_transformed.shape[2],number_of_bins_30s]) \n",
    "                # iterate over students\n",
    "                for i_this_student in range(len(corr_student_vs_other_students_spatial_30s)):\n",
    "                    # for every student, corr with all other students\n",
    "                    # per tr\n",
    "                    this_student_all_trs=this_data_transformed[:,:,i_this_student]\n",
    "                    other_students = np.mean(this_data_transformed[:, :, np.arange(this_data_transformed.shape[2]) != i_this_student], axis=2) #mean over (other) students\n",
    "                    temp=np.array([stats.pearsonr(this_student_all_trs[:,i_tr],other_students[:,i_tr])[0] for i_tr in range(this_data_transformed.shape[1])])\n",
    "                    corr_student_vs_other_students_spatial_per_tr[i_this_student]=temp\n",
    "                    # 10s bins\n",
    "                    this_student_mean_over_bins_10s=func_mean_over_trs(this_data_transformed[:,:,i_this_student],bin_size=10)              \n",
    "                    other_students_mean_over_bins_10s=func_mean_over_trs(other_students,bin_size=10)\n",
    "                    corr_student_vs_other_students_spatial_10s[i_this_student]=np.array([stats.pearsonr(this_student_mean_over_bins_10s[:,i],other_students_mean_over_bins_10s[:,i])[0] for i in range(number_of_bins_10s)])\n",
    "                    # 30s bins\n",
    "                    this_student_mean_over_bins_30s=func_mean_over_trs(this_data_transformed[:,:,i_this_student])              \n",
    "                    other_students_mean_over_bins_30s=func_mean_over_trs(other_students)\n",
    "                    corr_student_vs_other_students_spatial_30s[i_this_student]=np.array([stats.pearsonr(this_student_mean_over_bins_30s[:,i],other_students_mean_over_bins_30s[:,i])[0] for i in range(number_of_bins_30s)])\n",
    "                #update dict with the value for mean of bins \n",
    "                #no bins\n",
    "                epi_lecture_spatial_corr_per_tr[this_task][this_roi_name][this_hemisphere]['rvals_vs_group']=np.mean(corr_student_vs_other_students_spatial_per_tr,1) # USE TO STORE CORR DATA WITH group (other students)\n",
    "                students_list=[re.search(task_name_template,this_file)[1] for this_file in epi_tasks_in_roi['students'][this_task]['filenames']] # student names\n",
    "                epi_lecture_spatial_corr_per_tr[this_task][this_roi_name][this_hemisphere]['student_names']=students_list\n",
    "                #10s bins\n",
    "                epi_lecture_spatial_corr_bin_10s[this_task][this_roi_name][this_hemisphere]['rvals_vs_group']=np.mean(corr_student_vs_other_students_spatial_10s,1) # USE TO STORE CORR DATA WITH group (other students)\n",
    "                students_list=[re.search(task_name_template,this_file)[1] for this_file in epi_tasks_in_roi['students'][this_task]['filenames']] # student names\n",
    "                epi_lecture_spatial_corr_bin_10s[this_task][this_roi_name][this_hemisphere]['student_names']=students_list\n",
    "                #30s bins\n",
    "                epi_lecture_spatial_corr_bin_30s[this_task][this_roi_name][this_hemisphere]['rvals_vs_group']=np.mean(corr_student_vs_other_students_spatial_30s,1) # USE TO STORE CORR DATA WITH group (other students)\n",
    "                students_list=[re.search(task_name_template,this_file)[1] for this_file in epi_tasks_in_roi['students'][this_task]['filenames']] # student names\n",
    "                epi_lecture_spatial_corr_bin_30s[this_task][this_roi_name][this_hemisphere]['student_names']=students_list\n",
    "\n",
    "    do_pickle=True\n",
    "    dicts_to_save=['epi_lecture_temp_corr_no_bin','epi_lecture_spatial_corr_per_tr','epi_lecture_spatial_corr_bin_10s','epi_lecture_spatial_corr_bin_30s']\n",
    "    if do_pickle:\n",
    "        for this_dict in dicts_to_save:\n",
    "            pickle_filename=join(pickles_path,'lectures_roi_data_isc_meanbin_dict_nothr_{}.p'.format(this_dict)) # temporal and spatial (spatial averaged over time bins)\n",
    "            pickle.dump(eval(this_dict), open(pickle_filename, 'wb'))\n"
   ]
  },
  {
   "cell_type": "code",
   "execution_count": 93,
   "metadata": {
    "scrolled": true
   },
   "outputs": [
    {
     "name": "stdout",
     "output_type": "stream",
     "text": [
      "epi_lecture_temp_corr_no_bin\n",
      "Amygdala\n",
      "bilateral\n",
      "Angular\n",
      "bilateral\n",
      "Cingulate-ant\n",
      "bilateral\n",
      "Heschls\n",
      "bilateral\n",
      "Hippocampus\n",
      "bilateral\n",
      "Intracalcarine\n",
      "bilateral\n",
      "Precuneous\n",
      "bilateral\n",
      "STG-post\n",
      "bilateral\n",
      "epi_lecture_spatial_corr_per_tr\n",
      "Amygdala\n",
      "bilateral\n",
      "Angular\n",
      "bilateral\n",
      "Cingulate-ant\n",
      "bilateral\n",
      "Heschls\n",
      "bilateral\n",
      "Hippocampus\n",
      "bilateral\n",
      "Intracalcarine\n",
      "bilateral\n",
      "Precuneous\n",
      "bilateral\n",
      "STG-post\n",
      "bilateral\n",
      "epi_lecture_spatial_corr_bin_10s\n",
      "Amygdala\n",
      "bilateral\n",
      "Angular\n",
      "bilateral\n",
      "Cingulate-ant\n",
      "bilateral\n",
      "Heschls\n",
      "bilateral\n",
      "Hippocampus\n",
      "bilateral\n",
      "Intracalcarine\n",
      "bilateral\n",
      "Precuneous\n",
      "bilateral\n",
      "STG-post\n",
      "bilateral\n",
      "epi_lecture_spatial_corr_bin_30s\n",
      "Amygdala\n",
      "bilateral\n",
      "Angular\n",
      "bilateral\n",
      "Cingulate-ant\n",
      "bilateral\n",
      "Heschls\n",
      "bilateral\n",
      "Hippocampus\n",
      "bilateral\n",
      "Intracalcarine\n",
      "bilateral\n",
      "Precuneous\n",
      "bilateral\n",
      "STG-post\n",
      "bilateral\n"
     ]
    }
   ],
   "source": [
    "\n",
    "# LECTURES\n",
    "# mean over tasks -lectures\n",
    "pickle_dicts=['epi_lecture_temp_corr_no_bin','epi_lecture_spatial_corr_per_tr','epi_lecture_spatial_corr_bin_10s','epi_lecture_spatial_corr_bin_30s']\n",
    "megadict['lectures']={}\n",
    "\n",
    "\n",
    "placement_df=outcomes_df.dropna()['placement'] # drop students with Nans\n",
    "\n",
    "\n",
    "for this_dict_name in pickle_dicts:\n",
    "    print(this_dict_name)\n",
    "    this_dict=eval(this_dict_name).copy()\n",
    "\n",
    "\n",
    "    this_task=None\n",
    "    this_roi=None\n",
    "    mean_over_tasks_dict={} # mean over all tasks \n",
    "    all_tasks_dict={} # all tasks data - for use as features later\n",
    "\n",
    "    #this_task=for this_task in this_dict.keys():\n",
    "    vs = 'rvals_vs_group'\n",
    "\n",
    "\n",
    "\n",
    "    for this_roi_name in sorted(masks.keys()):\n",
    "        print(this_roi_name)\n",
    "        mean_over_tasks_dict[this_roi_name]={}\n",
    "        all_tasks_dict[this_roi_name]={}\n",
    "        for this_hemi in hemispheres:\n",
    "            mean_over_tasks_dict[this_roi_name][this_hemi]={}\n",
    "            all_tasks_dict[this_roi_name][this_hemi]={}\n",
    "            print(this_hemi)\n",
    "\n",
    "            mean_over_tasks_dict[this_roi_name][this_hemi][vs]={}\n",
    "            all_tasks_dict[this_roi_name][this_hemi][vs]={}\n",
    "            null_task=list(this_dict.keys())[0]\n",
    "            n_sub=len(placement_df[good_students])\n",
    "            # all_corrs: mean over all tasks\n",
    "            all_corrs=np.zeros([n_sub,len(this_dict.keys())]) # subjects, tasks\n",
    "            all_corrs[:] = np.nan\n",
    "            for i_this_task,this_task in enumerate(this_dict.keys()):           \n",
    "                # get students data, sorted (if forgot to read sorted)\n",
    "                v=this_dict[this_task][this_roi_name][this_hemi]['student_names'].copy()\n",
    "                data_sorted=this_dict[this_task][this_roi_name][this_hemi][vs][np.argsort(v)]\n",
    "                # skip students with no data in this task (s103 task 3)\n",
    "                all_corrs_ind=[True if s in v else False for s in sorted(good_students)]\n",
    "                # load data\n",
    "                all_corrs[all_corrs_ind,i_this_task]=data_sorted\n",
    "            # update dict - mean after fisher\n",
    "            mean_over_tasks_dict[this_roi_name][this_hemi][vs]=np.tanh(np.nanmean(np.arctanh(all_corrs),axis=1))\n",
    "            mean_over_tasks_dict[this_roi_name][this_hemi]['student_names']=this_dict[this_task][this_roi_name][this_hemi]['student_names'].copy()\n",
    "            # update tasks dict - all\n",
    "            all_tasks_dict[this_roi_name][this_hemi][vs]=all_corrs #subjects*tasks\n",
    "            all_tasks_dict[this_roi_name][this_hemi]['student_names']=this_dict[this_task][this_roi_name][this_hemi]['student_names'].copy()\n",
    "\n",
    "    # update data (pickled,original) dict\n",
    "    this_dict['mean_over_tasks']=mean_over_tasks_dict\n",
    "    this_dict['all_tasks']=all_tasks_dict\n",
    "    megadict['lectures'][this_dict_name]=this_dict.copy()\n",
    "    # note nans for s103 for wk3\n",
    "    #all_tasks_dict['V4']['right']['rvals_vs_group'][1,:]"
   ]
  },
  {
   "cell_type": "code",
   "execution_count": 94,
   "metadata": {
    "scrolled": true
   },
   "outputs": [],
   "source": [
    "# select \n",
    "this_dict_name='epi_lecture_spatial_corr_bin_30s' # spatial 30s bins\n",
    "#this_dict_name='epi_lecture_spatial_corr_bin_10s' # spatial 10s bins\n",
    "#this_dict_name='epi_lecture_spatial_corr_per_tr' # spatial 2s bins\n",
    "#this_dict_name='epi_lecture_temp_corr_no_bin' # temporal\n"
   ]
  },
  {
   "cell_type": "code",
   "execution_count": 95,
   "metadata": {},
   "outputs": [],
   "source": [
    "# LECTURES\n",
    "# corr mean over tasks with placement score\n",
    "\n",
    "num_perms=1000\n",
    "corrw_outcome_df=pd.DataFrame() # results\n",
    "this_dict=megadict['lectures'][this_dict_name]['mean_over_tasks'].copy()\n",
    "\n",
    "for this_score_type in ['placement']:\n",
    "    score_df=outcomes_df.dropna()[this_score_type]\n",
    "    for this_roi_name in sorted(this_dict.keys()): # iter ROIs\n",
    "        for this_hemi in hemispheres:\n",
    "            for vs in ['rvals_vs_group']:\n",
    "                cx=this_dict[this_roi_name][this_hemi][vs]\n",
    "                x=cx.copy()\n",
    "                y=score_df[good_students].values\n",
    "                rval, dist = func_corr_and_null_dist(x,y,num_perms=num_perms)\n",
    "                if np.isnan(rval) or np.sum(np.isnan(dist)):\n",
    "                    pval=np.nan\n",
    "                else:\n",
    "                    pval = isc.p_from_null(rval,dist,side='right',exact=False,axis=0)\n",
    "\n",
    "                vs_mean_of='student-vs-experts' if 'expert' in vs else 'student-vs-students'\n",
    "                nvox=int(np.sum(masks[this_roi_name]['all_voxels'][this_hemi]))\n",
    "                temp_df=pd.DataFrame({'corr_w_score': 'between',\\\n",
    "                                                       'score_type': this_score_type,\\\n",
    "                                                       'isc_type': 'spatial_bin30s',\\\n",
    "                                                       'roi_type': 'anatomical',\\\n",
    "                                                       'vs_mean_of': vs_mean_of,\\\n",
    "                                                       'across': 'lectures',\\\n",
    "                                                       'roi_name': this_roi_name,\\\n",
    "                                                       'roi_hemi': this_hemi,\\\n",
    "                                                       'n_voxels':nvox,\\\n",
    "                                                       'rval':rval,\\\n",
    "                                                       'pval':pval},index=[0])\n",
    "                corrw_outcome_df=corrw_outcome_df.append(temp_df)\n",
    "\n"
   ]
  },
  {
   "cell_type": "code",
   "execution_count": 96,
   "metadata": {
    "scrolled": false
   },
   "outputs": [
    {
     "data": {
      "text/html": [
       "<div>\n",
       "<style scoped>\n",
       "    .dataframe tbody tr th:only-of-type {\n",
       "        vertical-align: middle;\n",
       "    }\n",
       "\n",
       "    .dataframe tbody tr th {\n",
       "        vertical-align: top;\n",
       "    }\n",
       "\n",
       "    .dataframe thead th {\n",
       "        text-align: right;\n",
       "    }\n",
       "</style>\n",
       "<table border=\"1\" class=\"dataframe\">\n",
       "  <thead>\n",
       "    <tr style=\"text-align: right;\">\n",
       "      <th></th>\n",
       "      <th>corr_w_score</th>\n",
       "      <th>score_type</th>\n",
       "      <th>isc_type</th>\n",
       "      <th>roi_type</th>\n",
       "      <th>vs_mean_of</th>\n",
       "      <th>across</th>\n",
       "      <th>roi_name</th>\n",
       "      <th>roi_hemi</th>\n",
       "      <th>n_voxels</th>\n",
       "      <th>rval</th>\n",
       "      <th>pval</th>\n",
       "      <th>fdr_pval</th>\n",
       "    </tr>\n",
       "  </thead>\n",
       "  <tbody>\n",
       "    <tr>\n",
       "      <th>0</th>\n",
       "      <td>between</td>\n",
       "      <td>placement</td>\n",
       "      <td>spatial_bin30s</td>\n",
       "      <td>anatomical</td>\n",
       "      <td>student-vs-students</td>\n",
       "      <td>lectures</td>\n",
       "      <td>Amygdala</td>\n",
       "      <td>bilateral</td>\n",
       "      <td>318</td>\n",
       "      <td>0.293296</td>\n",
       "      <td>0.125874</td>\n",
       "      <td>0.125874</td>\n",
       "    </tr>\n",
       "    <tr>\n",
       "      <th>0</th>\n",
       "      <td>between</td>\n",
       "      <td>placement</td>\n",
       "      <td>spatial_bin30s</td>\n",
       "      <td>anatomical</td>\n",
       "      <td>student-vs-students</td>\n",
       "      <td>lectures</td>\n",
       "      <td>Angular</td>\n",
       "      <td>bilateral</td>\n",
       "      <td>1783</td>\n",
       "      <td>0.620351</td>\n",
       "      <td>0.000999</td>\n",
       "      <td>0.003996</td>\n",
       "    </tr>\n",
       "    <tr>\n",
       "      <th>0</th>\n",
       "      <td>between</td>\n",
       "      <td>placement</td>\n",
       "      <td>spatial_bin30s</td>\n",
       "      <td>anatomical</td>\n",
       "      <td>student-vs-students</td>\n",
       "      <td>lectures</td>\n",
       "      <td>Cingulate(a)</td>\n",
       "      <td>bilateral</td>\n",
       "      <td>1092</td>\n",
       "      <td>0.525319</td>\n",
       "      <td>0.009990</td>\n",
       "      <td>0.019980</td>\n",
       "    </tr>\n",
       "    <tr>\n",
       "      <th>0</th>\n",
       "      <td>between</td>\n",
       "      <td>placement</td>\n",
       "      <td>spatial_bin30s</td>\n",
       "      <td>anatomical</td>\n",
       "      <td>student-vs-students</td>\n",
       "      <td>lectures</td>\n",
       "      <td>Heschls</td>\n",
       "      <td>bilateral</td>\n",
       "      <td>454</td>\n",
       "      <td>0.456410</td>\n",
       "      <td>0.027972</td>\n",
       "      <td>0.044755</td>\n",
       "    </tr>\n",
       "    <tr>\n",
       "      <th>0</th>\n",
       "      <td>between</td>\n",
       "      <td>placement</td>\n",
       "      <td>spatial_bin30s</td>\n",
       "      <td>anatomical</td>\n",
       "      <td>student-vs-students</td>\n",
       "      <td>lectures</td>\n",
       "      <td>Hippocampus</td>\n",
       "      <td>bilateral</td>\n",
       "      <td>668</td>\n",
       "      <td>0.752559</td>\n",
       "      <td>0.000999</td>\n",
       "      <td>0.003996</td>\n",
       "    </tr>\n",
       "    <tr>\n",
       "      <th>0</th>\n",
       "      <td>between</td>\n",
       "      <td>placement</td>\n",
       "      <td>spatial_bin30s</td>\n",
       "      <td>anatomical</td>\n",
       "      <td>student-vs-students</td>\n",
       "      <td>lectures</td>\n",
       "      <td>Precuneus</td>\n",
       "      <td>bilateral</td>\n",
       "      <td>2845</td>\n",
       "      <td>0.608211</td>\n",
       "      <td>0.001998</td>\n",
       "      <td>0.005328</td>\n",
       "    </tr>\n",
       "    <tr>\n",
       "      <th>0</th>\n",
       "      <td>between</td>\n",
       "      <td>placement</td>\n",
       "      <td>spatial_bin30s</td>\n",
       "      <td>anatomical</td>\n",
       "      <td>student-vs-students</td>\n",
       "      <td>lectures</td>\n",
       "      <td>STG-post</td>\n",
       "      <td>bilateral</td>\n",
       "      <td>856</td>\n",
       "      <td>0.403230</td>\n",
       "      <td>0.039960</td>\n",
       "      <td>0.045669</td>\n",
       "    </tr>\n",
       "    <tr>\n",
       "      <th>0</th>\n",
       "      <td>between</td>\n",
       "      <td>placement</td>\n",
       "      <td>spatial_bin30s</td>\n",
       "      <td>anatomical</td>\n",
       "      <td>student-vs-students</td>\n",
       "      <td>lectures</td>\n",
       "      <td>_Intracalc</td>\n",
       "      <td>bilateral</td>\n",
       "      <td>925</td>\n",
       "      <td>0.408804</td>\n",
       "      <td>0.035964</td>\n",
       "      <td>0.045669</td>\n",
       "    </tr>\n",
       "  </tbody>\n",
       "</table>\n",
       "</div>"
      ],
      "text/plain": [
       "  corr_w_score score_type        isc_type    roi_type           vs_mean_of  \\\n",
       "0      between  placement  spatial_bin30s  anatomical  student-vs-students   \n",
       "0      between  placement  spatial_bin30s  anatomical  student-vs-students   \n",
       "0      between  placement  spatial_bin30s  anatomical  student-vs-students   \n",
       "0      between  placement  spatial_bin30s  anatomical  student-vs-students   \n",
       "0      between  placement  spatial_bin30s  anatomical  student-vs-students   \n",
       "0      between  placement  spatial_bin30s  anatomical  student-vs-students   \n",
       "0      between  placement  spatial_bin30s  anatomical  student-vs-students   \n",
       "0      between  placement  spatial_bin30s  anatomical  student-vs-students   \n",
       "\n",
       "     across      roi_name   roi_hemi  n_voxels      rval      pval  fdr_pval  \n",
       "0  lectures      Amygdala  bilateral       318  0.293296  0.125874  0.125874  \n",
       "0  lectures       Angular  bilateral      1783  0.620351  0.000999  0.003996  \n",
       "0  lectures  Cingulate(a)  bilateral      1092  0.525319  0.009990  0.019980  \n",
       "0  lectures       Heschls  bilateral       454  0.456410  0.027972  0.044755  \n",
       "0  lectures   Hippocampus  bilateral       668  0.752559  0.000999  0.003996  \n",
       "0  lectures     Precuneus  bilateral      2845  0.608211  0.001998  0.005328  \n",
       "0  lectures      STG-post  bilateral       856  0.403230  0.039960  0.045669  \n",
       "0  lectures    _Intracalc  bilateral       925  0.408804  0.035964  0.045669  "
      ]
     },
     "execution_count": 96,
     "metadata": {},
     "output_type": "execute_result"
    }
   ],
   "source": [
    "# LECTURES\n",
    "# table 2 column 'lectures'\n",
    "# plot mean across tasks correlation with outcome\n",
    "\n",
    "#corrw_outcome_df\n",
    "# filter similarity df by params\n",
    "outcome_df=corrw_outcome_df.copy() # reset filtering\n",
    "\n",
    "# dict for filter with all unique vals and selected vals\n",
    "outcome_roi_keys={}\n",
    "for this_col_name in outcome_df.columns:\n",
    "    outcome_roi_keys[this_col_name]={}\n",
    "    outcome_roi_keys[this_col_name]['all']=sorted(outcome_df[this_col_name].unique()) # all unique values in that column\n",
    "    outcome_roi_keys[this_col_name]['select']=None # selected value to filter\n",
    "\n",
    "# set filtering params\n",
    "rois_effect=['Hippocampus','Precuneous','Cingulate-ant','Angular','STG-post']\n",
    "rois_control=['Amygdala','Heschls','Intracalcarine']\n",
    "\n",
    "for outcome_roi_keys['score_type']['select'] in [['placement']]:\n",
    "    for outcome_roi_keys['roi_name']['select'] in [rois_effect+rois_control]:\n",
    "        for outcome_roi_keys['vs_mean_of']['select'] in [['student-vs-students']]:\n",
    "            outcome_roi_keys['roi_hemi']['select']=['bilateral']\n",
    "            #outcome_roi_keys['roi_hemi']['select']=['right','left']\n",
    "            this_data_outcome=get_filtered_df(roi_keys=outcome_roi_keys,unfiltered_df=outcome_df)\n",
    "            # fix names and order of ROIS\n",
    "            replace_dict={'Intracalcarine':'_Intracalc','Precuneous':'Precuneus','Cingulate-ant':'Cingulate(a)'}\n",
    "            this_data_outcome.replace(to_replace=replace_dict,inplace=True)\n",
    "            this_data_outcome=this_data_outcome.sort_values(['roi_name'])\n",
    "            # FDR corrected pval\n",
    "            this_data_outcome['fdr_pval']=fdr_correction(this_data_outcome.pval)[1]\n",
    "            # disp df\n",
    "            this_data_outcome\n",
    "            # output filename\n",
    "            fn=None\n",
    "            #fn=join(output_path,'placement','outcome','focus',get_title_text(outcome_roi_keys,'lectures-collapsed-{}'.format(this_dict_name))+'.jpg')\n",
    "            #plot_df_roi(filtered_df=this_data_outcome,roi_keys=outcome_roi_keys,save_filename=fn)\n",
    "    \n",
    "\n"
   ]
  },
  {
   "cell_type": "code",
   "execution_count": 99,
   "metadata": {
    "scrolled": false
   },
   "outputs": [
    {
     "name": "stdout",
     "output_type": "stream",
     "text": [
      "df_rval = [0.75255944]\n",
      "dict_rval = 0.7525594419571001\n"
     ]
    },
    {
     "data": {
      "text/plain": [
       "<matplotlib.collections.PathCollection at 0x7fd53c09e050>"
      ]
     },
     "execution_count": 99,
     "metadata": {},
     "output_type": "execute_result"
    },
    {
     "data": {
      "text/plain": [
       "[<matplotlib.lines.Line2D at 0x7fd53c09e810>]"
      ]
     },
     "execution_count": 99,
     "metadata": {},
     "output_type": "execute_result"
    },
    {
     "data": {
      "text/plain": [
       "Text(0.5, 1.0, 'Hippocampus')"
      ]
     },
     "execution_count": 99,
     "metadata": {},
     "output_type": "execute_result"
    },
    {
     "data": {
      "text/plain": [
       "Text(0.5, 0, 'Alignment to class')"
      ]
     },
     "execution_count": 99,
     "metadata": {},
     "output_type": "execute_result"
    },
    {
     "data": {
      "text/plain": [
       "Text(0, 0.5, 'Exam score')"
      ]
     },
     "execution_count": 99,
     "metadata": {},
     "output_type": "execute_result"
    },
    {
     "name": "stdout",
     "output_type": "stream",
     "text": [
      "df_rval = [0.52531885]\n",
      "dict_rval = 0.5253188525935947\n"
     ]
    },
    {
     "data": {
      "text/plain": [
       "<matplotlib.collections.PathCollection at 0x7fd53c03f1d0>"
      ]
     },
     "execution_count": 99,
     "metadata": {},
     "output_type": "execute_result"
    },
    {
     "data": {
      "text/plain": [
       "[<matplotlib.lines.Line2D at 0x7fd53c03f910>]"
      ]
     },
     "execution_count": 99,
     "metadata": {},
     "output_type": "execute_result"
    },
    {
     "data": {
      "text/plain": [
       "Text(0.5, 1.0, 'Cingulate-ant')"
      ]
     },
     "execution_count": 99,
     "metadata": {},
     "output_type": "execute_result"
    },
    {
     "data": {
      "text/plain": [
       "Text(0.5, 0, 'Alignment to class')"
      ]
     },
     "execution_count": 99,
     "metadata": {},
     "output_type": "execute_result"
    },
    {
     "data": {
      "text/plain": [
       "Text(0, 0.5, 'Exam score')"
      ]
     },
     "execution_count": 99,
     "metadata": {},
     "output_type": "execute_result"
    },
    {
     "name": "stdout",
     "output_type": "stream",
     "text": [
      "df_rval = [0.62035147]\n",
      "dict_rval = 0.6203514710006768\n"
     ]
    },
    {
     "data": {
      "text/plain": [
       "<matplotlib.collections.PathCollection at 0x7fd53c060410>"
      ]
     },
     "execution_count": 99,
     "metadata": {},
     "output_type": "execute_result"
    },
    {
     "data": {
      "text/plain": [
       "[<matplotlib.lines.Line2D at 0x7fd53c060b50>]"
      ]
     },
     "execution_count": 99,
     "metadata": {},
     "output_type": "execute_result"
    },
    {
     "data": {
      "text/plain": [
       "Text(0.5, 1.0, 'Angular')"
      ]
     },
     "execution_count": 99,
     "metadata": {},
     "output_type": "execute_result"
    },
    {
     "data": {
      "text/plain": [
       "Text(0.5, 0, 'Alignment to class')"
      ]
     },
     "execution_count": 99,
     "metadata": {},
     "output_type": "execute_result"
    },
    {
     "data": {
      "text/plain": [
       "Text(0, 0.5, 'Exam score')"
      ]
     },
     "execution_count": 99,
     "metadata": {},
     "output_type": "execute_result"
    },
    {
     "name": "stdout",
     "output_type": "stream",
     "text": [
      "df_rval = [0.40880418]\n",
      "dict_rval = 0.40880418468264773\n"
     ]
    },
    {
     "data": {
      "text/plain": [
       "<matplotlib.collections.PathCollection at 0x7fd51c7be550>"
      ]
     },
     "execution_count": 99,
     "metadata": {},
     "output_type": "execute_result"
    },
    {
     "data": {
      "text/plain": [
       "[<matplotlib.lines.Line2D at 0x7fd51c7bec90>]"
      ]
     },
     "execution_count": 99,
     "metadata": {},
     "output_type": "execute_result"
    },
    {
     "data": {
      "text/plain": [
       "Text(0.5, 1.0, 'Intracalcarine')"
      ]
     },
     "execution_count": 99,
     "metadata": {},
     "output_type": "execute_result"
    },
    {
     "data": {
      "text/plain": [
       "Text(0.5, 0, 'Alignment to class')"
      ]
     },
     "execution_count": 99,
     "metadata": {},
     "output_type": "execute_result"
    },
    {
     "data": {
      "text/plain": [
       "Text(0, 0.5, 'Exam score')"
      ]
     },
     "execution_count": 99,
     "metadata": {},
     "output_type": "execute_result"
    },
    {
     "data": {
      "text/plain": [
       "<Figure size 432x288 with 0 Axes>"
      ]
     },
     "metadata": {},
     "output_type": "display_data"
    },
    {
     "data": {
      "image/png": "[encoded data removed]",
      "text/plain": [
       "<Figure size 360x360 with 1 Axes>"
      ]
     },
     "metadata": {
      "image/png": {
       "height": 327,
       "width": 327
      }
     },
     "output_type": "display_data"
    },
    {
     "data": {
      "text/plain": [
       "<Figure size 432x288 with 0 Axes>"
      ]
     },
     "metadata": {},
     "output_type": "display_data"
    },
    {
     "data": {
      "image/png": "[encoded data removed]",
      "text/plain": [
       "<Figure size 360x360 with 1 Axes>"
      ]
     },
     "metadata": {
      "image/png": {
       "height": 327,
       "width": 327
      }
     },
     "output_type": "display_data"
    },
    {
     "data": {
      "text/plain": [
       "<Figure size 432x288 with 0 Axes>"
      ]
     },
     "metadata": {},
     "output_type": "display_data"
    },
    {
     "data": {
      "image/png": "[encoded data removed]",
      "text/plain": [
       "<Figure size 360x360 with 1 Axes>"
      ]
     },
     "metadata": {
      "image/png": {
       "height": 327,
       "width": 327
      }
     },
     "output_type": "display_data"
    },
    {
     "data": {
      "text/plain": [
       "<Figure size 432x288 with 0 Axes>"
      ]
     },
     "metadata": {},
     "output_type": "display_data"
    },
    {
     "data": {
      "image/png": "[encoded data removed]",
      "text/plain": [
       "<Figure size 360x360 with 1 Axes>"
      ]
     },
     "metadata": {
      "image/png": {
       "height": 327,
       "width": 327
      }
     },
     "output_type": "display_data"
    }
   ],
   "source": [
    "# LECTURES\n",
    "\n",
    "# plot correlation of mean over tasks with placement score\n",
    "outcome_df=corrw_outcome_df.copy() # reset filtering\n",
    "#outcome_df\n",
    "placement_df=outcomes_df.dropna()['placement']\n",
    "# select ROI data\n",
    "\n",
    "good_students_mask=[True if s in placement_df.index else False for s in this_dict[this_roi_name][this_hemi]['student_names']]\n",
    "num_good_students=np.sum(good_students_mask)\n",
    "save_jpg=True\n",
    "\n",
    "for this_roi_name in ['Hippocampus','Cingulate-ant','Angular','Intracalcarine']:\n",
    "#this_roi_name='Hippocampus'\n",
    "    #for this_hemi in hemispheres:\n",
    "    for this_hemi in ['bilateral']:\n",
    "        #this_hemi='left'\n",
    "        vs='rvals_vs_group'\n",
    "        outcome_roi_keys['roi_name']['select']=this_roi_name\n",
    "        outcome_roi_keys['score_type']['select']='placement'\n",
    "\n",
    "        cx=this_dict[this_roi_name][this_hemi][vs]#[good_students_mask]\n",
    "        #x = np.tanh(cx)\n",
    "        x=cx.copy()\n",
    "        y=placement_df[good_students].values\n",
    "        y*=100/(3*16)\n",
    "        # recalc rval\n",
    "        rval, dist = func_corr_and_null_dist(x,y,num_perms=0)\n",
    "        # get pval\n",
    "        # dict for filter with all unique vals and selected vals\n",
    "        outcome_roi_keys={}\n",
    "        for this_col_name in outcome_df.columns:\n",
    "            outcome_roi_keys[this_col_name]={}\n",
    "            outcome_roi_keys[this_col_name]['all']=sorted(outcome_df[this_col_name].unique()) # all unique values in that column\n",
    "            outcome_roi_keys[this_col_name]['select']=None # selected value to filter\n",
    "        #corrw_outcome_df\n",
    "        # filter similarity df by params\n",
    "        outcome_df=corrw_outcome_df.copy() # reset filtering\n",
    "        # select w params\n",
    "        outcome_roi_keys['roi_name']['select']=[this_roi_name]\n",
    "        outcome_roi_keys['roi_hemi']['select']=[this_hemi]\n",
    "        outcome_roi_keys['roi_type']['select']=['anatomical']\n",
    "        outcome_roi_keys['vs_mean_of']['select']=['student-vs-students']\n",
    "        this_data_outcome=get_filtered_df(roi_keys=outcome_roi_keys,unfiltered_df=outcome_df)\n",
    "        pval=this_data_outcome['pval'].values[0]\n",
    "        # compare rvals between dict and df - should be identical\n",
    "        print('df_rval = {}'.format(this_data_outcome['rval'].values))\n",
    "        print('dict_rval = {}'.format(rval))\n",
    "        sns.set_context(\"talk\", font_scale=1.2)\n",
    "        sns.set_style(\"ticks\")\n",
    "        fig=plt.figure()\n",
    "        f, ax = plt.subplots(1,1, figsize = (5, 5))\n",
    "        #ax = fig.add_subplot(111)\n",
    "        ax.scatter(x,y)\n",
    "        #ax.grid(b=None)\n",
    "        # trendline\n",
    "        z = np.polyfit(x, y, 1)\n",
    "        p = np.poly1d(z)\n",
    "        ax.plot(x,p(x),\"r\",linewidth=2)\n",
    "        plt.title(this_roi_name)\n",
    "        plt.xlabel('Alignment to class')\n",
    "        plt.ylabel('Exam score')\n",
    "        lim_x=ax.get_xlim()\n",
    "#         if save_jpg:\n",
    "#             save_filename=join(output_path,'vid_corrw_score','jpg','lec_corrw_{}-{}_thr{}.ps'.format(this_roi_name,this_hemi,thr))\n",
    "#             plt.savefig(save_filename,dpi=150)\n",
    "#             save_filename=join(output_path,'vid_corrw_score','jpg','lec_corrw_{}-{}_thr{}.png'.format(this_roi_name,this_hemi,thr))\n",
    "#             plt.savefig(save_filename,dpi=150)"
   ]
  },
  {
   "cell_type": "code",
   "execution_count": 102,
   "metadata": {},
   "outputs": [
    {
     "data": {
      "text/plain": [
       "'Hippocampus'"
      ]
     },
     "execution_count": 102,
     "metadata": {},
     "output_type": "execute_result"
    },
    {
     "data": {
      "text/html": [
       "<div>\n",
       "<style scoped>\n",
       "    .dataframe tbody tr th:only-of-type {\n",
       "        vertical-align: middle;\n",
       "    }\n",
       "\n",
       "    .dataframe tbody tr th {\n",
       "        vertical-align: top;\n",
       "    }\n",
       "\n",
       "    .dataframe thead th {\n",
       "        text-align: right;\n",
       "    }\n",
       "</style>\n",
       "<table border=\"1\" class=\"dataframe\">\n",
       "  <thead>\n",
       "    <tr style=\"text-align: right;\">\n",
       "      <th></th>\n",
       "      <th>x</th>\n",
       "      <th>y</th>\n",
       "    </tr>\n",
       "  </thead>\n",
       "  <tbody>\n",
       "    <tr>\n",
       "      <th>0</th>\n",
       "      <td>0.031575</td>\n",
       "      <td>2.734375</td>\n",
       "    </tr>\n",
       "    <tr>\n",
       "      <th>1</th>\n",
       "      <td>0.029228</td>\n",
       "      <td>1.888021</td>\n",
       "    </tr>\n",
       "    <tr>\n",
       "      <th>2</th>\n",
       "      <td>0.030027</td>\n",
       "      <td>3.385417</td>\n",
       "    </tr>\n",
       "    <tr>\n",
       "      <th>3</th>\n",
       "      <td>0.048897</td>\n",
       "      <td>3.645833</td>\n",
       "    </tr>\n",
       "    <tr>\n",
       "      <th>4</th>\n",
       "      <td>0.069137</td>\n",
       "      <td>4.752604</td>\n",
       "    </tr>\n",
       "    <tr>\n",
       "      <th>5</th>\n",
       "      <td>0.070681</td>\n",
       "      <td>4.166667</td>\n",
       "    </tr>\n",
       "    <tr>\n",
       "      <th>6</th>\n",
       "      <td>0.032938</td>\n",
       "      <td>3.450521</td>\n",
       "    </tr>\n",
       "    <tr>\n",
       "      <th>7</th>\n",
       "      <td>0.050865</td>\n",
       "      <td>4.296875</td>\n",
       "    </tr>\n",
       "    <tr>\n",
       "      <th>8</th>\n",
       "      <td>0.011910</td>\n",
       "      <td>1.367188</td>\n",
       "    </tr>\n",
       "    <tr>\n",
       "      <th>9</th>\n",
       "      <td>0.042508</td>\n",
       "      <td>4.361979</td>\n",
       "    </tr>\n",
       "    <tr>\n",
       "      <th>10</th>\n",
       "      <td>0.017017</td>\n",
       "      <td>2.018229</td>\n",
       "    </tr>\n",
       "    <tr>\n",
       "      <th>11</th>\n",
       "      <td>0.033831</td>\n",
       "      <td>3.515625</td>\n",
       "    </tr>\n",
       "    <tr>\n",
       "      <th>12</th>\n",
       "      <td>0.032360</td>\n",
       "      <td>2.148438</td>\n",
       "    </tr>\n",
       "    <tr>\n",
       "      <th>13</th>\n",
       "      <td>0.034778</td>\n",
       "      <td>2.343750</td>\n",
       "    </tr>\n",
       "    <tr>\n",
       "      <th>14</th>\n",
       "      <td>0.038235</td>\n",
       "      <td>1.497396</td>\n",
       "    </tr>\n",
       "    <tr>\n",
       "      <th>15</th>\n",
       "      <td>0.019322</td>\n",
       "      <td>1.367188</td>\n",
       "    </tr>\n",
       "    <tr>\n",
       "      <th>16</th>\n",
       "      <td>0.030105</td>\n",
       "      <td>3.320313</td>\n",
       "    </tr>\n",
       "    <tr>\n",
       "      <th>17</th>\n",
       "      <td>0.052928</td>\n",
       "      <td>4.101562</td>\n",
       "    </tr>\n",
       "    <tr>\n",
       "      <th>18</th>\n",
       "      <td>0.037381</td>\n",
       "      <td>2.604167</td>\n",
       "    </tr>\n",
       "    <tr>\n",
       "      <th>19</th>\n",
       "      <td>0.065182</td>\n",
       "      <td>3.320313</td>\n",
       "    </tr>\n",
       "  </tbody>\n",
       "</table>\n",
       "</div>"
      ],
      "text/plain": [
       "           x         y\n",
       "0   0.031575  2.734375\n",
       "1   0.029228  1.888021\n",
       "2   0.030027  3.385417\n",
       "3   0.048897  3.645833\n",
       "4   0.069137  4.752604\n",
       "5   0.070681  4.166667\n",
       "6   0.032938  3.450521\n",
       "7   0.050865  4.296875\n",
       "8   0.011910  1.367188\n",
       "9   0.042508  4.361979\n",
       "10  0.017017  2.018229\n",
       "11  0.033831  3.515625\n",
       "12  0.032360  2.148438\n",
       "13  0.034778  2.343750\n",
       "14  0.038235  1.497396\n",
       "15  0.019322  1.367188\n",
       "16  0.030105  3.320313\n",
       "17  0.052928  4.101562\n",
       "18  0.037381  2.604167\n",
       "19  0.065182  3.320313"
      ]
     },
     "execution_count": 102,
     "metadata": {},
     "output_type": "execute_result"
    },
    {
     "data": {
      "text/plain": [
       "'Cingulate-ant'"
      ]
     },
     "execution_count": 102,
     "metadata": {},
     "output_type": "execute_result"
    },
    {
     "data": {
      "text/html": [
       "<div>\n",
       "<style scoped>\n",
       "    .dataframe tbody tr th:only-of-type {\n",
       "        vertical-align: middle;\n",
       "    }\n",
       "\n",
       "    .dataframe tbody tr th {\n",
       "        vertical-align: top;\n",
       "    }\n",
       "\n",
       "    .dataframe thead th {\n",
       "        text-align: right;\n",
       "    }\n",
       "</style>\n",
       "<table border=\"1\" class=\"dataframe\">\n",
       "  <thead>\n",
       "    <tr style=\"text-align: right;\">\n",
       "      <th></th>\n",
       "      <th>x</th>\n",
       "      <th>y</th>\n",
       "    </tr>\n",
       "  </thead>\n",
       "  <tbody>\n",
       "    <tr>\n",
       "      <th>0</th>\n",
       "      <td>0.091604</td>\n",
       "      <td>2.734375</td>\n",
       "    </tr>\n",
       "    <tr>\n",
       "      <th>1</th>\n",
       "      <td>0.075610</td>\n",
       "      <td>1.888021</td>\n",
       "    </tr>\n",
       "    <tr>\n",
       "      <th>2</th>\n",
       "      <td>0.121753</td>\n",
       "      <td>3.385417</td>\n",
       "    </tr>\n",
       "    <tr>\n",
       "      <th>3</th>\n",
       "      <td>0.105775</td>\n",
       "      <td>3.645833</td>\n",
       "    </tr>\n",
       "    <tr>\n",
       "      <th>4</th>\n",
       "      <td>0.145253</td>\n",
       "      <td>4.752604</td>\n",
       "    </tr>\n",
       "    <tr>\n",
       "      <th>5</th>\n",
       "      <td>0.101969</td>\n",
       "      <td>4.166667</td>\n",
       "    </tr>\n",
       "    <tr>\n",
       "      <th>6</th>\n",
       "      <td>0.088679</td>\n",
       "      <td>3.450521</td>\n",
       "    </tr>\n",
       "    <tr>\n",
       "      <th>7</th>\n",
       "      <td>0.113873</td>\n",
       "      <td>4.296875</td>\n",
       "    </tr>\n",
       "    <tr>\n",
       "      <th>8</th>\n",
       "      <td>0.094083</td>\n",
       "      <td>1.367188</td>\n",
       "    </tr>\n",
       "    <tr>\n",
       "      <th>9</th>\n",
       "      <td>0.149055</td>\n",
       "      <td>4.361979</td>\n",
       "    </tr>\n",
       "    <tr>\n",
       "      <th>10</th>\n",
       "      <td>0.056145</td>\n",
       "      <td>2.018229</td>\n",
       "    </tr>\n",
       "    <tr>\n",
       "      <th>11</th>\n",
       "      <td>0.097378</td>\n",
       "      <td>3.515625</td>\n",
       "    </tr>\n",
       "    <tr>\n",
       "      <th>12</th>\n",
       "      <td>0.119241</td>\n",
       "      <td>2.148438</td>\n",
       "    </tr>\n",
       "    <tr>\n",
       "      <th>13</th>\n",
       "      <td>0.093722</td>\n",
       "      <td>2.343750</td>\n",
       "    </tr>\n",
       "    <tr>\n",
       "      <th>14</th>\n",
       "      <td>0.139366</td>\n",
       "      <td>1.497396</td>\n",
       "    </tr>\n",
       "    <tr>\n",
       "      <th>15</th>\n",
       "      <td>0.013687</td>\n",
       "      <td>1.367188</td>\n",
       "    </tr>\n",
       "    <tr>\n",
       "      <th>16</th>\n",
       "      <td>0.075856</td>\n",
       "      <td>3.320313</td>\n",
       "    </tr>\n",
       "    <tr>\n",
       "      <th>17</th>\n",
       "      <td>0.105256</td>\n",
       "      <td>4.101562</td>\n",
       "    </tr>\n",
       "    <tr>\n",
       "      <th>18</th>\n",
       "      <td>0.091981</td>\n",
       "      <td>2.604167</td>\n",
       "    </tr>\n",
       "    <tr>\n",
       "      <th>19</th>\n",
       "      <td>0.122381</td>\n",
       "      <td>3.320313</td>\n",
       "    </tr>\n",
       "  </tbody>\n",
       "</table>\n",
       "</div>"
      ],
      "text/plain": [
       "           x         y\n",
       "0   0.091604  2.734375\n",
       "1   0.075610  1.888021\n",
       "2   0.121753  3.385417\n",
       "3   0.105775  3.645833\n",
       "4   0.145253  4.752604\n",
       "5   0.101969  4.166667\n",
       "6   0.088679  3.450521\n",
       "7   0.113873  4.296875\n",
       "8   0.094083  1.367188\n",
       "9   0.149055  4.361979\n",
       "10  0.056145  2.018229\n",
       "11  0.097378  3.515625\n",
       "12  0.119241  2.148438\n",
       "13  0.093722  2.343750\n",
       "14  0.139366  1.497396\n",
       "15  0.013687  1.367188\n",
       "16  0.075856  3.320313\n",
       "17  0.105256  4.101562\n",
       "18  0.091981  2.604167\n",
       "19  0.122381  3.320313"
      ]
     },
     "execution_count": 102,
     "metadata": {},
     "output_type": "execute_result"
    },
    {
     "data": {
      "text/plain": [
       "'Angular'"
      ]
     },
     "execution_count": 102,
     "metadata": {},
     "output_type": "execute_result"
    },
    {
     "data": {
      "text/html": [
       "<div>\n",
       "<style scoped>\n",
       "    .dataframe tbody tr th:only-of-type {\n",
       "        vertical-align: middle;\n",
       "    }\n",
       "\n",
       "    .dataframe tbody tr th {\n",
       "        vertical-align: top;\n",
       "    }\n",
       "\n",
       "    .dataframe thead th {\n",
       "        text-align: right;\n",
       "    }\n",
       "</style>\n",
       "<table border=\"1\" class=\"dataframe\">\n",
       "  <thead>\n",
       "    <tr style=\"text-align: right;\">\n",
       "      <th></th>\n",
       "      <th>x</th>\n",
       "      <th>y</th>\n",
       "    </tr>\n",
       "  </thead>\n",
       "  <tbody>\n",
       "    <tr>\n",
       "      <th>0</th>\n",
       "      <td>0.143279</td>\n",
       "      <td>2.734375</td>\n",
       "    </tr>\n",
       "    <tr>\n",
       "      <th>1</th>\n",
       "      <td>0.131323</td>\n",
       "      <td>1.888021</td>\n",
       "    </tr>\n",
       "    <tr>\n",
       "      <th>2</th>\n",
       "      <td>0.149355</td>\n",
       "      <td>3.385417</td>\n",
       "    </tr>\n",
       "    <tr>\n",
       "      <th>3</th>\n",
       "      <td>0.156332</td>\n",
       "      <td>3.645833</td>\n",
       "    </tr>\n",
       "    <tr>\n",
       "      <th>4</th>\n",
       "      <td>0.195947</td>\n",
       "      <td>4.752604</td>\n",
       "    </tr>\n",
       "    <tr>\n",
       "      <th>5</th>\n",
       "      <td>0.148265</td>\n",
       "      <td>4.166667</td>\n",
       "    </tr>\n",
       "    <tr>\n",
       "      <th>6</th>\n",
       "      <td>0.164784</td>\n",
       "      <td>3.450521</td>\n",
       "    </tr>\n",
       "    <tr>\n",
       "      <th>7</th>\n",
       "      <td>0.202906</td>\n",
       "      <td>4.296875</td>\n",
       "    </tr>\n",
       "    <tr>\n",
       "      <th>8</th>\n",
       "      <td>0.088768</td>\n",
       "      <td>1.367188</td>\n",
       "    </tr>\n",
       "    <tr>\n",
       "      <th>9</th>\n",
       "      <td>0.185801</td>\n",
       "      <td>4.361979</td>\n",
       "    </tr>\n",
       "    <tr>\n",
       "      <th>10</th>\n",
       "      <td>0.084621</td>\n",
       "      <td>2.018229</td>\n",
       "    </tr>\n",
       "    <tr>\n",
       "      <th>11</th>\n",
       "      <td>0.095177</td>\n",
       "      <td>3.515625</td>\n",
       "    </tr>\n",
       "    <tr>\n",
       "      <th>12</th>\n",
       "      <td>0.162844</td>\n",
       "      <td>2.148438</td>\n",
       "    </tr>\n",
       "    <tr>\n",
       "      <th>13</th>\n",
       "      <td>0.143035</td>\n",
       "      <td>2.343750</td>\n",
       "    </tr>\n",
       "    <tr>\n",
       "      <th>14</th>\n",
       "      <td>0.163827</td>\n",
       "      <td>1.497396</td>\n",
       "    </tr>\n",
       "    <tr>\n",
       "      <th>15</th>\n",
       "      <td>0.089447</td>\n",
       "      <td>1.367188</td>\n",
       "    </tr>\n",
       "    <tr>\n",
       "      <th>16</th>\n",
       "      <td>0.093278</td>\n",
       "      <td>3.320313</td>\n",
       "    </tr>\n",
       "    <tr>\n",
       "      <th>17</th>\n",
       "      <td>0.178360</td>\n",
       "      <td>4.101562</td>\n",
       "    </tr>\n",
       "    <tr>\n",
       "      <th>18</th>\n",
       "      <td>0.130824</td>\n",
       "      <td>2.604167</td>\n",
       "    </tr>\n",
       "    <tr>\n",
       "      <th>19</th>\n",
       "      <td>0.173222</td>\n",
       "      <td>3.320313</td>\n",
       "    </tr>\n",
       "  </tbody>\n",
       "</table>\n",
       "</div>"
      ],
      "text/plain": [
       "           x         y\n",
       "0   0.143279  2.734375\n",
       "1   0.131323  1.888021\n",
       "2   0.149355  3.385417\n",
       "3   0.156332  3.645833\n",
       "4   0.195947  4.752604\n",
       "5   0.148265  4.166667\n",
       "6   0.164784  3.450521\n",
       "7   0.202906  4.296875\n",
       "8   0.088768  1.367188\n",
       "9   0.185801  4.361979\n",
       "10  0.084621  2.018229\n",
       "11  0.095177  3.515625\n",
       "12  0.162844  2.148438\n",
       "13  0.143035  2.343750\n",
       "14  0.163827  1.497396\n",
       "15  0.089447  1.367188\n",
       "16  0.093278  3.320313\n",
       "17  0.178360  4.101562\n",
       "18  0.130824  2.604167\n",
       "19  0.173222  3.320313"
      ]
     },
     "execution_count": 102,
     "metadata": {},
     "output_type": "execute_result"
    },
    {
     "data": {
      "text/plain": [
       "'Intracalcarine'"
      ]
     },
     "execution_count": 102,
     "metadata": {},
     "output_type": "execute_result"
    },
    {
     "data": {
      "text/html": [
       "<div>\n",
       "<style scoped>\n",
       "    .dataframe tbody tr th:only-of-type {\n",
       "        vertical-align: middle;\n",
       "    }\n",
       "\n",
       "    .dataframe tbody tr th {\n",
       "        vertical-align: top;\n",
       "    }\n",
       "\n",
       "    .dataframe thead th {\n",
       "        text-align: right;\n",
       "    }\n",
       "</style>\n",
       "<table border=\"1\" class=\"dataframe\">\n",
       "  <thead>\n",
       "    <tr style=\"text-align: right;\">\n",
       "      <th></th>\n",
       "      <th>x</th>\n",
       "      <th>y</th>\n",
       "    </tr>\n",
       "  </thead>\n",
       "  <tbody>\n",
       "    <tr>\n",
       "      <th>0</th>\n",
       "      <td>0.288067</td>\n",
       "      <td>2.734375</td>\n",
       "    </tr>\n",
       "    <tr>\n",
       "      <th>1</th>\n",
       "      <td>0.268900</td>\n",
       "      <td>1.888021</td>\n",
       "    </tr>\n",
       "    <tr>\n",
       "      <th>2</th>\n",
       "      <td>0.261873</td>\n",
       "      <td>3.385417</td>\n",
       "    </tr>\n",
       "    <tr>\n",
       "      <th>3</th>\n",
       "      <td>0.341490</td>\n",
       "      <td>3.645833</td>\n",
       "    </tr>\n",
       "    <tr>\n",
       "      <th>4</th>\n",
       "      <td>0.405971</td>\n",
       "      <td>4.752604</td>\n",
       "    </tr>\n",
       "    <tr>\n",
       "      <th>5</th>\n",
       "      <td>0.293526</td>\n",
       "      <td>4.166667</td>\n",
       "    </tr>\n",
       "    <tr>\n",
       "      <th>6</th>\n",
       "      <td>0.211422</td>\n",
       "      <td>3.450521</td>\n",
       "    </tr>\n",
       "    <tr>\n",
       "      <th>7</th>\n",
       "      <td>0.300962</td>\n",
       "      <td>4.296875</td>\n",
       "    </tr>\n",
       "    <tr>\n",
       "      <th>8</th>\n",
       "      <td>0.213864</td>\n",
       "      <td>1.367188</td>\n",
       "    </tr>\n",
       "    <tr>\n",
       "      <th>9</th>\n",
       "      <td>0.367830</td>\n",
       "      <td>4.361979</td>\n",
       "    </tr>\n",
       "    <tr>\n",
       "      <th>10</th>\n",
       "      <td>0.271246</td>\n",
       "      <td>2.018229</td>\n",
       "    </tr>\n",
       "    <tr>\n",
       "      <th>11</th>\n",
       "      <td>0.279501</td>\n",
       "      <td>3.515625</td>\n",
       "    </tr>\n",
       "    <tr>\n",
       "      <th>12</th>\n",
       "      <td>0.368087</td>\n",
       "      <td>2.148438</td>\n",
       "    </tr>\n",
       "    <tr>\n",
       "      <th>13</th>\n",
       "      <td>0.248105</td>\n",
       "      <td>2.343750</td>\n",
       "    </tr>\n",
       "    <tr>\n",
       "      <th>14</th>\n",
       "      <td>0.271865</td>\n",
       "      <td>1.497396</td>\n",
       "    </tr>\n",
       "    <tr>\n",
       "      <th>15</th>\n",
       "      <td>0.275383</td>\n",
       "      <td>1.367188</td>\n",
       "    </tr>\n",
       "    <tr>\n",
       "      <th>16</th>\n",
       "      <td>0.197159</td>\n",
       "      <td>3.320313</td>\n",
       "    </tr>\n",
       "    <tr>\n",
       "      <th>17</th>\n",
       "      <td>0.286523</td>\n",
       "      <td>4.101562</td>\n",
       "    </tr>\n",
       "    <tr>\n",
       "      <th>18</th>\n",
       "      <td>0.330833</td>\n",
       "      <td>2.604167</td>\n",
       "    </tr>\n",
       "    <tr>\n",
       "      <th>19</th>\n",
       "      <td>0.318672</td>\n",
       "      <td>3.320313</td>\n",
       "    </tr>\n",
       "  </tbody>\n",
       "</table>\n",
       "</div>"
      ],
      "text/plain": [
       "           x         y\n",
       "0   0.288067  2.734375\n",
       "1   0.268900  1.888021\n",
       "2   0.261873  3.385417\n",
       "3   0.341490  3.645833\n",
       "4   0.405971  4.752604\n",
       "5   0.293526  4.166667\n",
       "6   0.211422  3.450521\n",
       "7   0.300962  4.296875\n",
       "8   0.213864  1.367188\n",
       "9   0.367830  4.361979\n",
       "10  0.271246  2.018229\n",
       "11  0.279501  3.515625\n",
       "12  0.368087  2.148438\n",
       "13  0.248105  2.343750\n",
       "14  0.271865  1.497396\n",
       "15  0.275383  1.367188\n",
       "16  0.197159  3.320313\n",
       "17  0.286523  4.101562\n",
       "18  0.330833  2.604167\n",
       "19  0.318672  3.320313"
      ]
     },
     "execution_count": 102,
     "metadata": {},
     "output_type": "execute_result"
    }
   ],
   "source": [
    "# show data for figure 2\n",
    "for this_roi_name in ['Hippocampus','Cingulate-ant','Angular','Intracalcarine']:\n",
    "    this_roi_name\n",
    "    cx=this_dict[this_roi_name][this_hemi][vs]#[good_students_mask]\n",
    "    x=cx.copy()\n",
    "    y=placement_df[good_students].values\n",
    "    y*=100/(3*16)\n",
    "    temp=pd.DataFrame({'x':x,'y':y})\n",
    "    temp"
   ]
  },
  {
   "cell_type": "code",
   "execution_count": null,
   "metadata": {},
   "outputs": [],
   "source": []
  }
 ],
 "metadata": {
  "kernelspec": {
   "display_name": "Python 3",
   "language": "python",
   "name": "python3"
  },
  "language_info": {
   "codemirror_mode": {
    "name": "ipython",
    "version": 3
   },
   "file_extension": ".py",
   "mimetype": "text/x-python",
   "name": "python",
   "nbconvert_exporter": "python",
   "pygments_lexer": "ipython3",
   "version": "3.7.4"
  }
 },
 "nbformat": 4,
 "nbformat_minor": 2
}
