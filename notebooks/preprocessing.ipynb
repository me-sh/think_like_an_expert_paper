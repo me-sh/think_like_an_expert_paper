{
 "cells": [
  {
   "cell_type": "markdown",
   "metadata": {},
   "source": [
    "Pre-processing of EPI files  \n",
    "Run FSL BET+FEAT, regress out 6 motion parameters, warp to MNI space  \n",
    "uses bash scripts (in py folder):  \n",
    "slurm_bet.sh  \n",
    "slurm_feat.sh  \n",
    "slurm_3dTproject.sh  \n",
    "slurm_warp.sh  \n",
    "\n"
   ]
  },
  {
   "cell_type": "code",
   "execution_count": 1,
   "metadata": {},
   "outputs": [],
   "source": [
    "from os import listdir, makedirs, walk, remove, getlogin, rename\n",
    "from os.path import isfile, join, exists, isfile, getmtime\n",
    "import numpy as np\n",
    "import matplotlib.pyplot as plt\n",
    "from IPython.display import display\n",
    "%config InlineBackend.figure_format = 'retina' # for 4k screen\n",
    "from IPython.core.interactiveshell import InteractiveShell # for var view\n",
    "InteractiveShell.ast_node_interactivity = \"all\" # for var view\n",
    "import shutil\n",
    "import pandas as pd\n",
    "import socket\n",
    "import re\n",
    "import nibabel as nib\n",
    "from scipy import stats\n",
    "import glob"
   ]
  },
  {
   "cell_type": "code",
   "execution_count": 7,
   "metadata": {},
   "outputs": [
    {
     "name": "stdout",
     "output_type": "stream",
     "text": [
      "Server: scotty.pni.Princeton.EDU\n"
     ]
    }
   ],
   "source": [
    "#set paths\n",
    "my_name = getlogin()\n",
    "\n",
    "# set system\n",
    "this_system = socket.gethostname()\n",
    "print ('Server: '+this_system)\n",
    "\n",
    "# DATA\n",
    "bids_path='/mnt/sink/scratch/{}/to_bids'.format(my_name)\n",
    "# CODE\n",
    "code_path='/mnt/bucket/people/{}/{}/notebooks/share'.format(my_name,my_name[:-2])\n"
   ]
  },
  {
   "cell_type": "markdown",
   "metadata": {},
   "source": [
    "run slurm_bet.sh (FSL BET)  "
   ]
  },
  {
   "cell_type": "markdown",
   "metadata": {},
   "source": [
    "run slurm_feat.sh (FSL FEAT)  \n",
    "params:  \n",
    "tr_length = str('2.000')  \n",
    "smoothing_fwhm_mm = str('6.0')  \n",
    "highpass = str('100')  \n",
    "fsf_file_template = 'rough_match.fsf'  \n",
    "brain_file = 'MNI152_T1_3mm_brain.nii.gz'  "
   ]
  },
  {
   "cell_type": "markdown",
   "metadata": {},
   "source": [
    "run slurm_3dTproject.sh (regress out motion parameters)  \n",
    "params:  'prefiltered_func_data_mcf.par' files   \n",
    "create 'filtered_func_data_denoised.nii.gz'  from 'filtered_func_data.nii.gz'"
   ]
  },
  {
   "cell_type": "markdown",
   "metadata": {},
   "source": [
    "run slurm_warp.sh (warp to MNI space)  \n",
    "create _mni files"
   ]
  }
 ],
 "metadata": {
  "kernelspec": {
   "display_name": "Python 3",
   "language": "python",
   "name": "python3"
  },
  "language_info": {
   "codemirror_mode": {
    "name": "ipython",
    "version": 3
   },
   "file_extension": ".py",
   "mimetype": "text/x-python",
   "name": "python",
   "nbconvert_exporter": "python",
   "pygments_lexer": "ipython3",
   "version": "3.7.4"
  }
 },
 "nbformat": 4,
 "nbformat_minor": 2
}
